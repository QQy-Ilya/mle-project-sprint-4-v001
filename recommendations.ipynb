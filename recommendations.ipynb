{
 "cells": [
  {
   "cell_type": "markdown",
   "id": "f4095ae4-7294-4b28-853e-88d235002c97",
   "metadata": {},
   "source": [
    "# Инициализация"
   ]
  },
  {
   "cell_type": "markdown",
   "id": "2f2318d2-9df8-4911-915e-15b725c44f8a",
   "metadata": {},
   "source": [
    "Загружаем библиотеки необходимые для выполнения кода ноутбука."
   ]
  },
  {
   "cell_type": "code",
   "execution_count": 1,
   "id": "662d04e7-1b0b-4e4a-9ddf-4526d7fef119",
   "metadata": {},
   "outputs": [
    {
     "name": "stderr",
     "output_type": "stream",
     "text": [
      "/home/mle-user/mle-project/mle-project-sprint-4-v001/.venv_project_sprint_4/lib/python3.10/site-packages/tqdm/auto.py:21: TqdmWarning: IProgress not found. Please update jupyter and ipywidgets. See https://ipywidgets.readthedocs.io/en/stable/user_install.html\n",
      "  from .autonotebook import tqdm as notebook_tqdm\n"
     ]
    }
   ],
   "source": [
    "import scipy\n",
    "import numpy as np\n",
    "import pandas as pd\n",
    "\n",
    "from joblib import load, dump\n",
    "\n",
    "import matplotlib.pyplot as plt\n",
    "import seaborn as sns\n",
    "\n",
    "import sklearn\n",
    "from sklearn.preprocessing  import MinMaxScaler, LabelEncoder\n",
    "from sklearn.metrics import mean_squared_error, mean_absolute_error, ndcg_score\n",
    "from sklearn.metrics.pairwise import cosine_similarity, euclidean_distances\n",
    "\n",
    "from scipy import sparse\n",
    "\n",
    "from implicit.als import AlternatingLeastSquares\n",
    "\n",
    "from catboost import CatBoostClassifier, Pool"
   ]
  },
  {
   "cell_type": "markdown",
   "id": "bf80fbc5-b660-4fac-8fbb-a5cae77313b3",
   "metadata": {},
   "source": [
    "# === ЭТАП 1 ==="
   ]
  },
  {
   "cell_type": "markdown",
   "id": "5263a8b3-fe99-4204-8a2e-105182792c11",
   "metadata": {},
   "source": [
    "# Загрузка первичных данных"
   ]
  },
  {
   "cell_type": "markdown",
   "id": "1b54a6a5-1656-4e3c-99d1-49dc39451d33",
   "metadata": {},
   "source": [
    "Загружаем первичные данные из файлов:\n",
    "- tracks.parquet\n",
    "- catalog_names.parquet\n",
    "- interactions.parquet"
   ]
  },
  {
   "cell_type": "code",
   "execution_count": 2,
   "id": "5d4b8961-3f35-4e58-9d6b-3e2dbd2c4224",
   "metadata": {},
   "outputs": [],
   "source": [
    "tracks = pd.read_parquet(\"data/tracks.parquet\")\n",
    "catalog_names = pd.read_parquet(\"data/catalog_names.parquet\")\n",
    "interaction = pd.read_parquet(\"data/interactions.parquet\")"
   ]
  },
  {
   "cell_type": "code",
   "execution_count": 3,
   "id": "70f7bdfe-175c-45c1-a2e9-d99f0f33be2e",
   "metadata": {},
   "outputs": [
    {
     "name": "stdout",
     "output_type": "stream",
     "text": [
      "(1000000, 4)\n",
      "(1812471, 3)\n",
      "(222629898, 4)\n"
     ]
    }
   ],
   "source": [
    "#tracks: (1000000, 4)\n",
    "#catalog_names: (1812471, 3)\n",
    "#interaction: (222629898, 4)\n",
    "\n",
    "print(tracks.shape)\n",
    "print(catalog_names.shape)\n",
    "print(interaction.shape)"
   ]
  },
  {
   "cell_type": "markdown",
   "id": "e8f2a1f7-a05f-4f39-af90-5f4018aa6f9d",
   "metadata": {},
   "source": [
    "# Обзор данных"
   ]
  },
  {
   "cell_type": "markdown",
   "id": "46a85307-896c-4fac-9fcf-f0dffa90889e",
   "metadata": {},
   "source": [
    "Проверяем данные, есть ли с ними явные проблемы."
   ]
  },
  {
   "cell_type": "code",
   "execution_count": 4,
   "id": "efd2e2eb-3bec-4ce1-87ac-232bab8bc0d0",
   "metadata": {},
   "outputs": [
    {
     "name": "stdout",
     "output_type": "stream",
     "text": [
      "tracks: \n",
      "1000000\n",
      "False    1000000\n",
      "Name: count, dtype: int64\n",
      "========================================\n",
      "catalog_names: \n",
      "1776697\n",
      "False    919697\n",
      "True     892774\n",
      "Name: count, dtype: int64\n",
      "========================================\n",
      "interaction: \n",
      "1373221\n",
      "False    222629898\n",
      "Name: count, dtype: int64\n"
     ]
    }
   ],
   "source": [
    "print('tracks: ')\n",
    "print(len(tracks['track_id'].unique()))\n",
    "print(tracks.duplicated(subset=['track_id'], keep=False).value_counts())\n",
    "\n",
    "print('='*40)\n",
    "print('catalog_names: ')\n",
    "print(len(catalog_names['id'].unique()))\n",
    "print(catalog_names.duplicated(subset=['type', 'name'], keep=False).value_counts())\n",
    "\n",
    "print('='*40)\n",
    "print('interaction: ')\n",
    "print(len(interaction['user_id'].unique()))\n",
    "print(interaction.duplicated(subset=['user_id', 'track_id', 'started_at'], keep=False).value_counts())"
   ]
  },
  {
   "cell_type": "code",
   "execution_count": 5,
   "id": "cb49d15b",
   "metadata": {},
   "outputs": [
    {
     "name": "stdout",
     "output_type": "stream",
     "text": [
      "catalog_names: \n",
      "1776697\n",
      "70418\n"
     ]
    },
    {
     "data": {
      "text/html": [
       "<div>\n",
       "<style scoped>\n",
       "    .dataframe tbody tr th:only-of-type {\n",
       "        vertical-align: middle;\n",
       "    }\n",
       "\n",
       "    .dataframe tbody tr th {\n",
       "        vertical-align: top;\n",
       "    }\n",
       "\n",
       "    .dataframe thead th {\n",
       "        text-align: right;\n",
       "    }\n",
       "</style>\n",
       "<table border=\"1\" class=\"dataframe\">\n",
       "  <thead>\n",
       "    <tr style=\"text-align: right;\">\n",
       "      <th></th>\n",
       "      <th>id</th>\n",
       "      <th>type</th>\n",
       "      <th>name</th>\n",
       "    </tr>\n",
       "  </thead>\n",
       "  <tbody>\n",
       "    <tr>\n",
       "      <th>1</th>\n",
       "      <td>12</td>\n",
       "      <td>album</td>\n",
       "      <td>Wild Young Hearts</td>\n",
       "    </tr>\n",
       "    <tr>\n",
       "      <th>658728</th>\n",
       "      <td>12</td>\n",
       "      <td>artist</td>\n",
       "      <td>Phil Everly</td>\n",
       "    </tr>\n",
       "    <tr>\n",
       "      <th>812317</th>\n",
       "      <td>12</td>\n",
       "      <td>genre</td>\n",
       "      <td>shanson</td>\n",
       "    </tr>\n",
       "  </tbody>\n",
       "</table>\n",
       "</div>"
      ],
      "text/plain": [
       "        id    type               name\n",
       "1       12   album  Wild Young Hearts\n",
       "658728  12  artist        Phil Everly\n",
       "812317  12   genre            shanson"
      ]
     },
     "execution_count": 5,
     "metadata": {},
     "output_type": "execute_result"
    }
   ],
   "source": [
    "#в catalog_names id некоторых объектов с разными type одинаковые\n",
    "\n",
    "print('catalog_names: ')\n",
    "print(len(catalog_names['id'].unique()))\n",
    "is_duplicated_id_ind = catalog_names['id'][catalog_names.duplicated(subset=['id'], keep=False)].tolist() \n",
    "print(len(is_duplicated_id_ind))\n",
    "catalog_names.loc[catalog_names['id']==12]"
   ]
  },
  {
   "cell_type": "code",
   "execution_count": 6,
   "id": "589085b9",
   "metadata": {},
   "outputs": [
    {
     "data": {
      "text/plain": [
       "type\n",
       "track     1000000\n",
       "album      658724\n",
       "artist     153581\n",
       "genre         166\n",
       "Name: count, dtype: int64"
      ]
     },
     "execution_count": 6,
     "metadata": {},
     "output_type": "execute_result"
    }
   ],
   "source": [
    "#распределение по type в catalog_names\n",
    "\n",
    "catalog_names['type'].value_counts()"
   ]
  },
  {
   "cell_type": "code",
   "execution_count": 7,
   "id": "a0bd9932",
   "metadata": {},
   "outputs": [
    {
     "data": {
      "text/plain": [
       "track_seq    162.12241\n",
       "dtype: float64"
      ]
     },
     "execution_count": 7,
     "metadata": {},
     "output_type": "execute_result"
    }
   ],
   "source": [
    "#среднее количество записей в interaction на одного user_id\n",
    "\n",
    "interaction.groupby('user_id').agg({'track_seq': 'count'}).mean()"
   ]
  },
  {
   "cell_type": "code",
   "execution_count": 8,
   "id": "4ca19e6f",
   "metadata": {},
   "outputs": [
    {
     "name": "stdout",
     "output_type": "stream",
     "text": [
      "track_id    0\n",
      "albums      0\n",
      "artists     0\n",
      "genres      0\n",
      "dtype: int64\n",
      "id      0\n",
      "type    0\n",
      "name    0\n",
      "dtype: int64\n",
      "user_id       0\n",
      "track_id      0\n",
      "track_seq     0\n",
      "started_at    0\n",
      "dtype: int64\n"
     ]
    }
   ],
   "source": [
    "#в tracks.parquet, catalog_names.parquet, interactions.parquet нет ячеек с NaN\n",
    "\n",
    "print(tracks.isnull().sum())\n",
    "print(catalog_names.isnull().sum())\n",
    "print(interaction.isnull().sum())"
   ]
  },
  {
   "cell_type": "code",
   "execution_count": 9,
   "id": "de1a11a8",
   "metadata": {},
   "outputs": [
    {
     "name": "stdout",
     "output_type": "stream",
     "text": [
      "<class 'pandas.core.frame.DataFrame'>\n",
      "RangeIndex: 1000000 entries, 0 to 999999\n",
      "Data columns (total 4 columns):\n",
      " #   Column    Non-Null Count    Dtype \n",
      "---  ------    --------------    ----- \n",
      " 0   track_id  1000000 non-null  int64 \n",
      " 1   albums    1000000 non-null  object\n",
      " 2   artists   1000000 non-null  object\n",
      " 3   genres    1000000 non-null  object\n",
      "dtypes: int64(1), object(3)\n",
      "memory usage: 30.5+ MB\n"
     ]
    }
   ],
   "source": [
    "tracks.info()"
   ]
  },
  {
   "cell_type": "code",
   "execution_count": 10,
   "id": "70cd0003",
   "metadata": {},
   "outputs": [
    {
     "name": "stdout",
     "output_type": "stream",
     "text": [
      "<class 'pandas.core.frame.DataFrame'>\n",
      "RangeIndex: 1812471 entries, 0 to 1812470\n",
      "Data columns (total 3 columns):\n",
      " #   Column  Dtype \n",
      "---  ------  ----- \n",
      " 0   id      int64 \n",
      " 1   type    object\n",
      " 2   name    object\n",
      "dtypes: int64(1), object(2)\n",
      "memory usage: 41.5+ MB\n"
     ]
    }
   ],
   "source": [
    "catalog_names.info()"
   ]
  },
  {
   "cell_type": "code",
   "execution_count": 11,
   "id": "a47cd969",
   "metadata": {},
   "outputs": [
    {
     "name": "stdout",
     "output_type": "stream",
     "text": [
      "<class 'pandas.core.frame.DataFrame'>\n",
      "Index: 222629898 entries, 0 to 291\n",
      "Data columns (total 4 columns):\n",
      " #   Column      Dtype         \n",
      "---  ------      -----         \n",
      " 0   user_id     int32         \n",
      " 1   track_id    int32         \n",
      " 2   track_seq   int16         \n",
      " 3   started_at  datetime64[ns]\n",
      "dtypes: datetime64[ns](1), int16(1), int32(2)\n",
      "memory usage: 5.4 GB\n",
      "None\n"
     ]
    },
    {
     "data": {
      "text/html": [
       "<div>\n",
       "<style scoped>\n",
       "    .dataframe tbody tr th:only-of-type {\n",
       "        vertical-align: middle;\n",
       "    }\n",
       "\n",
       "    .dataframe tbody tr th {\n",
       "        vertical-align: top;\n",
       "    }\n",
       "\n",
       "    .dataframe thead th {\n",
       "        text-align: right;\n",
       "    }\n",
       "</style>\n",
       "<table border=\"1\" class=\"dataframe\">\n",
       "  <thead>\n",
       "    <tr style=\"text-align: right;\">\n",
       "      <th></th>\n",
       "      <th>user_id</th>\n",
       "      <th>track_id</th>\n",
       "      <th>track_seq</th>\n",
       "      <th>started_at</th>\n",
       "    </tr>\n",
       "  </thead>\n",
       "  <tbody>\n",
       "    <tr>\n",
       "      <th>24</th>\n",
       "      <td>0</td>\n",
       "      <td>20232119</td>\n",
       "      <td>25</td>\n",
       "      <td>2022-09-14</td>\n",
       "    </tr>\n",
       "    <tr>\n",
       "      <th>25</th>\n",
       "      <td>0</td>\n",
       "      <td>20497621</td>\n",
       "      <td>26</td>\n",
       "      <td>2022-09-15</td>\n",
       "    </tr>\n",
       "    <tr>\n",
       "      <th>0</th>\n",
       "      <td>1</td>\n",
       "      <td>24417</td>\n",
       "      <td>1</td>\n",
       "      <td>2022-06-11</td>\n",
       "    </tr>\n",
       "    <tr>\n",
       "      <th>1</th>\n",
       "      <td>1</td>\n",
       "      <td>108208</td>\n",
       "      <td>2</td>\n",
       "      <td>2022-06-13</td>\n",
       "    </tr>\n",
       "  </tbody>\n",
       "</table>\n",
       "</div>"
      ],
      "text/plain": [
       "    user_id  track_id  track_seq started_at\n",
       "24        0  20232119         25 2022-09-14\n",
       "25        0  20497621         26 2022-09-15\n",
       "0         1     24417          1 2022-06-11\n",
       "1         1    108208          2 2022-06-13"
      ]
     },
     "execution_count": 11,
     "metadata": {},
     "output_type": "execute_result"
    }
   ],
   "source": [
    "#в interaction неверно расставлены индексы - нумерация индексов обновляется для каждого user_id \n",
    "print(interaction.info())\n",
    "interaction.iloc[[24, 25, 26, 27]]"
   ]
  },
  {
   "cell_type": "code",
   "execution_count": 12,
   "id": "3d505e7a",
   "metadata": {},
   "outputs": [],
   "source": [
    "interaction.reset_index(drop=True, inplace=True)"
   ]
  },
  {
   "cell_type": "code",
   "execution_count": 13,
   "id": "fe04086d",
   "metadata": {},
   "outputs": [
    {
     "data": {
      "text/html": [
       "<div>\n",
       "<style scoped>\n",
       "    .dataframe tbody tr th:only-of-type {\n",
       "        vertical-align: middle;\n",
       "    }\n",
       "\n",
       "    .dataframe tbody tr th {\n",
       "        vertical-align: top;\n",
       "    }\n",
       "\n",
       "    .dataframe thead th {\n",
       "        text-align: right;\n",
       "    }\n",
       "</style>\n",
       "<table border=\"1\" class=\"dataframe\">\n",
       "  <thead>\n",
       "    <tr style=\"text-align: right;\">\n",
       "      <th></th>\n",
       "      <th>user_id</th>\n",
       "      <th>track_id</th>\n",
       "      <th>track_seq</th>\n",
       "      <th>started_at</th>\n",
       "    </tr>\n",
       "  </thead>\n",
       "  <tbody>\n",
       "    <tr>\n",
       "      <th>0</th>\n",
       "      <td>0</td>\n",
       "      <td>99262</td>\n",
       "      <td>1</td>\n",
       "      <td>2022-07-17</td>\n",
       "    </tr>\n",
       "    <tr>\n",
       "      <th>1</th>\n",
       "      <td>0</td>\n",
       "      <td>589498</td>\n",
       "      <td>2</td>\n",
       "      <td>2022-07-19</td>\n",
       "    </tr>\n",
       "    <tr>\n",
       "      <th>2</th>\n",
       "      <td>0</td>\n",
       "      <td>590262</td>\n",
       "      <td>3</td>\n",
       "      <td>2022-07-21</td>\n",
       "    </tr>\n",
       "    <tr>\n",
       "      <th>3</th>\n",
       "      <td>0</td>\n",
       "      <td>590303</td>\n",
       "      <td>4</td>\n",
       "      <td>2022-07-22</td>\n",
       "    </tr>\n",
       "    <tr>\n",
       "      <th>4</th>\n",
       "      <td>0</td>\n",
       "      <td>590692</td>\n",
       "      <td>5</td>\n",
       "      <td>2022-07-22</td>\n",
       "    </tr>\n",
       "    <tr>\n",
       "      <th>...</th>\n",
       "      <td>...</td>\n",
       "      <td>...</td>\n",
       "      <td>...</td>\n",
       "      <td>...</td>\n",
       "    </tr>\n",
       "    <tr>\n",
       "      <th>222629893</th>\n",
       "      <td>1374582</td>\n",
       "      <td>95514767</td>\n",
       "      <td>288</td>\n",
       "      <td>2022-12-29</td>\n",
       "    </tr>\n",
       "    <tr>\n",
       "      <th>222629894</th>\n",
       "      <td>1374582</td>\n",
       "      <td>97220301</td>\n",
       "      <td>289</td>\n",
       "      <td>2022-12-29</td>\n",
       "    </tr>\n",
       "    <tr>\n",
       "      <th>222629895</th>\n",
       "      <td>1374582</td>\n",
       "      <td>97241171</td>\n",
       "      <td>290</td>\n",
       "      <td>2022-12-29</td>\n",
       "    </tr>\n",
       "    <tr>\n",
       "      <th>222629896</th>\n",
       "      <td>1374582</td>\n",
       "      <td>98542641</td>\n",
       "      <td>291</td>\n",
       "      <td>2022-12-29</td>\n",
       "    </tr>\n",
       "    <tr>\n",
       "      <th>222629897</th>\n",
       "      <td>1374582</td>\n",
       "      <td>100736375</td>\n",
       "      <td>292</td>\n",
       "      <td>2022-12-30</td>\n",
       "    </tr>\n",
       "  </tbody>\n",
       "</table>\n",
       "<p>222629898 rows × 4 columns</p>\n",
       "</div>"
      ],
      "text/plain": [
       "           user_id   track_id  track_seq started_at\n",
       "0                0      99262          1 2022-07-17\n",
       "1                0     589498          2 2022-07-19\n",
       "2                0     590262          3 2022-07-21\n",
       "3                0     590303          4 2022-07-22\n",
       "4                0     590692          5 2022-07-22\n",
       "...            ...        ...        ...        ...\n",
       "222629893  1374582   95514767        288 2022-12-29\n",
       "222629894  1374582   97220301        289 2022-12-29\n",
       "222629895  1374582   97241171        290 2022-12-29\n",
       "222629896  1374582   98542641        291 2022-12-29\n",
       "222629897  1374582  100736375        292 2022-12-30\n",
       "\n",
       "[222629898 rows x 4 columns]"
      ]
     },
     "execution_count": 13,
     "metadata": {},
     "output_type": "execute_result"
    }
   ],
   "source": [
    "interaction"
   ]
  },
  {
   "cell_type": "code",
   "execution_count": 14,
   "id": "2af91829",
   "metadata": {},
   "outputs": [],
   "source": [
    "tracs_by_users = interaction.groupby(\"track_id\").agg(num_users=(\"user_id\", \"count\")).reset_index()\n",
    "track_names = catalog_names.query('type==\"track\"').rename(columns={'id':'track_id'})\n",
    "tracs_by_users = tracs_by_users.merge(track_names[['track_id', 'name']], on='track_id', how='left')"
   ]
  },
  {
   "cell_type": "code",
   "execution_count": 15,
   "id": "f5a5c9cf",
   "metadata": {},
   "outputs": [
    {
     "data": {
      "text/html": [
       "<div>\n",
       "<style scoped>\n",
       "    .dataframe tbody tr th:only-of-type {\n",
       "        vertical-align: middle;\n",
       "    }\n",
       "\n",
       "    .dataframe tbody tr th {\n",
       "        vertical-align: top;\n",
       "    }\n",
       "\n",
       "    .dataframe thead th {\n",
       "        text-align: right;\n",
       "    }\n",
       "</style>\n",
       "<table border=\"1\" class=\"dataframe\">\n",
       "  <thead>\n",
       "    <tr style=\"text-align: right;\">\n",
       "      <th></th>\n",
       "      <th>track_id</th>\n",
       "      <th>num_users</th>\n",
       "      <th>name</th>\n",
       "    </tr>\n",
       "  </thead>\n",
       "  <tbody>\n",
       "    <tr>\n",
       "      <th>9098</th>\n",
       "      <td>53404</td>\n",
       "      <td>111062</td>\n",
       "      <td>Smells Like Teen Spirit</td>\n",
       "    </tr>\n",
       "    <tr>\n",
       "      <th>483876</th>\n",
       "      <td>33311009</td>\n",
       "      <td>106921</td>\n",
       "      <td>Believer</td>\n",
       "    </tr>\n",
       "    <tr>\n",
       "      <th>26665</th>\n",
       "      <td>178529</td>\n",
       "      <td>101924</td>\n",
       "      <td>Numb</td>\n",
       "    </tr>\n",
       "    <tr>\n",
       "      <th>512157</th>\n",
       "      <td>35505245</td>\n",
       "      <td>99490</td>\n",
       "      <td>I Got Love</td>\n",
       "    </tr>\n",
       "    <tr>\n",
       "      <th>829320</th>\n",
       "      <td>65851540</td>\n",
       "      <td>86670</td>\n",
       "      <td>Юность</td>\n",
       "    </tr>\n",
       "    <tr>\n",
       "      <th>...</th>\n",
       "      <td>...</td>\n",
       "      <td>...</td>\n",
       "      <td>...</td>\n",
       "    </tr>\n",
       "    <tr>\n",
       "      <th>946094</th>\n",
       "      <td>84391078</td>\n",
       "      <td>5</td>\n",
       "      <td>Intro к Mamma Maria</td>\n",
       "    </tr>\n",
       "    <tr>\n",
       "      <th>946095</th>\n",
       "      <td>84391079</td>\n",
       "      <td>5</td>\n",
       "      <td>Intro к Koldunya</td>\n",
       "    </tr>\n",
       "    <tr>\n",
       "      <th>946096</th>\n",
       "      <td>84391080</td>\n",
       "      <td>5</td>\n",
       "      <td>Intro к Barbie Girl</td>\n",
       "    </tr>\n",
       "    <tr>\n",
       "      <th>502881</th>\n",
       "      <td>34766819</td>\n",
       "      <td>5</td>\n",
       "      <td>Reign Fall</td>\n",
       "    </tr>\n",
       "    <tr>\n",
       "      <th>502885</th>\n",
       "      <td>34766901</td>\n",
       "      <td>5</td>\n",
       "      <td>Piel Morena</td>\n",
       "    </tr>\n",
       "  </tbody>\n",
       "</table>\n",
       "<p>1000000 rows × 3 columns</p>\n",
       "</div>"
      ],
      "text/plain": [
       "        track_id  num_users                     name\n",
       "9098       53404     111062  Smells Like Teen Spirit\n",
       "483876  33311009     106921                 Believer\n",
       "26665     178529     101924                     Numb\n",
       "512157  35505245      99490               I Got Love\n",
       "829320  65851540      86670                   Юность\n",
       "...          ...        ...                      ...\n",
       "946094  84391078          5      Intro к Mamma Maria\n",
       "946095  84391079          5         Intro к Koldunya\n",
       "946096  84391080          5      Intro к Barbie Girl\n",
       "502881  34766819          5               Reign Fall\n",
       "502885  34766901          5              Piel Morena\n",
       "\n",
       "[1000000 rows x 3 columns]"
      ]
     },
     "execution_count": 15,
     "metadata": {},
     "output_type": "execute_result"
    }
   ],
   "source": [
    "tracs_by_users.sort_values('num_users', ascending=False)"
   ]
  },
  {
   "cell_type": "code",
   "execution_count": null,
   "id": "55e34080",
   "metadata": {},
   "outputs": [
    {
     "name": "stdout",
     "output_type": "stream",
     "text": [
      "k= 1000000 steps in 1000000\r"
     ]
    }
   ],
   "source": [
    "#соберем информацию о прослышанных треков в каждом жанре (~ 12 мин.)\n",
    "\n",
    "genres_counter = {}\n",
    "\n",
    "for k, v, in tracks.iterrows():\n",
    "\n",
    "    genres = v['genres']\n",
    "    track_id = v['track_id']\n",
    "\n",
    "    num_users = list(tracs_by_users.loc[tracs_by_users['track_id']==track_id]['num_users'])[0]\n",
    "\n",
    "    if ((k+1)%100000 == 0):\n",
    "        print('k=',(k+1),'steps in',len(tracks), end='\\r')\n",
    "\n",
    "    for genre in genres:\n",
    "        try:\n",
    "            genres_counter[genre] += num_users\n",
    "        except KeyError:\n",
    "            genres_counter[genre] = num_users"
   ]
  },
  {
   "cell_type": "code",
   "execution_count": 17,
   "id": "7fae480a",
   "metadata": {},
   "outputs": [],
   "source": [
    "genres_by_users = pd.DataFrame.from_dict(genres_counter, orient='index').reset_index().rename(columns={'index':'genre_id', 0:'num_users'})\n",
    "genre_names = catalog_names.query('type==\"genre\"').rename(columns={'id':'genre_id'})\n",
    "genres_by_users = genres_by_users.merge(genre_names[['genre_id', 'name']], on='genre_id', how='left')"
   ]
  },
  {
   "cell_type": "code",
   "execution_count": 18,
   "id": "ac8b14e3",
   "metadata": {},
   "outputs": [
    {
     "name": "stdout",
     "output_type": "stream",
     "text": [
      "name\n",
      "False    143\n",
      "True      30\n",
      "Name: count, dtype: int64\n",
      "30\n"
     ]
    },
    {
     "data": {
      "text/html": [
       "<div>\n",
       "<style scoped>\n",
       "    .dataframe tbody tr th:only-of-type {\n",
       "        vertical-align: middle;\n",
       "    }\n",
       "\n",
       "    .dataframe tbody tr th {\n",
       "        vertical-align: top;\n",
       "    }\n",
       "\n",
       "    .dataframe thead th {\n",
       "        text-align: right;\n",
       "    }\n",
       "</style>\n",
       "<table border=\"1\" class=\"dataframe\">\n",
       "  <thead>\n",
       "    <tr style=\"text-align: right;\">\n",
       "      <th></th>\n",
       "      <th>id</th>\n",
       "      <th>type</th>\n",
       "      <th>name</th>\n",
       "    </tr>\n",
       "  </thead>\n",
       "  <tbody>\n",
       "  </tbody>\n",
       "</table>\n",
       "</div>"
      ],
      "text/plain": [
       "Empty DataFrame\n",
       "Columns: [id, type, name]\n",
       "Index: []"
      ]
     },
     "execution_count": 18,
     "metadata": {},
     "output_type": "execute_result"
    }
   ],
   "source": [
    "#не все жанры есть катологе catalog_names\n",
    "\n",
    "print(genres_by_users['name'].isnull().value_counts())\n",
    "nan_genre_id = genres_by_users[genres_by_users['name'].isnull()]['genre_id'].tolist()\n",
    "print(len(nan_genre_id))\n",
    "catalog_names.query('type==\"genre\"').loc[catalog_names['id'].isin(nan_genre_id)]"
   ]
  },
  {
   "cell_type": "code",
   "execution_count": 19,
   "id": "e3fbca4e",
   "metadata": {},
   "outputs": [
    {
     "name": "stdout",
     "output_type": "stream",
     "text": [
      "name\n",
      "False    173\n",
      "Name: count, dtype: int64\n"
     ]
    }
   ],
   "source": [
    "#назовем отсутсвующие в каталоге жанры 'other_genre_{id}'\n",
    "\n",
    "for id in nan_genre_id:\n",
    "    idx = genres_by_users.loc[genres_by_users['genre_id']==id].index.to_list()[0]\n",
    "    genres_by_users.at[idx, \"name\"] = f'other_genre_{id}'\n",
    "print(genres_by_users['name'].isnull().value_counts())"
   ]
  },
  {
   "cell_type": "code",
   "execution_count": 20,
   "id": "5a989008",
   "metadata": {},
   "outputs": [
    {
     "name": "stdout",
     "output_type": "stream",
     "text": [
      "False    173\n",
      "Name: count, dtype: int64\n"
     ]
    }
   ],
   "source": [
    "print(genres_by_users.duplicated(subset=['num_users', 'name'], keep=False).value_counts())"
   ]
  },
  {
   "cell_type": "code",
   "execution_count": 21,
   "id": "163dc7cd",
   "metadata": {},
   "outputs": [
    {
     "name": "stdout",
     "output_type": "stream",
     "text": [
      "(1000000, 3)\n",
      "(173, 3)\n"
     ]
    }
   ],
   "source": [
    "#tracs_by_users: (1000000, 3)\n",
    "#genres_by_users: (173, 3)\n",
    "\n",
    "print(tracs_by_users.shape)\n",
    "print(genres_by_users.shape)\n",
    "\n",
    "tracs_by_users.to_parquet(\"tmp/tracs_by_users.parquet\")\n",
    "genres_by_users.to_parquet(\"data_artifacts/genres_by_users.parquet\")"
   ]
  },
  {
   "cell_type": "markdown",
   "id": "318b573a-9e2d-4808-95db-60cfb8bbdb73",
   "metadata": {
    "editable": true,
    "slideshow": {
     "slide_type": ""
    },
    "tags": []
   },
   "source": [
    "# Выводы"
   ]
  },
  {
   "cell_type": "markdown",
   "id": "caa96e12-36a8-4401-8f11-98627a49ae9d",
   "metadata": {},
   "source": [
    "Приведём выводы по первому знакомству с данными:\n",
    "- есть ли с данными явные проблемы,\n",
    "- какие корректирующие действия (в целом) были предприняты."
   ]
  },
  {
   "cell_type": "code",
   "execution_count": null,
   "id": "4d4c38b2",
   "metadata": {},
   "outputs": [],
   "source": []
  },
  {
   "cell_type": "markdown",
   "id": "04922ed1",
   "metadata": {},
   "source": [
    "1. В tracks, catalog_names, interactions ячеек со значением NaN\n",
    "\n",
    "2. В catalog_names объекты с разными type могут иметь одинаковый id, следует обращать на это внимание\n",
    "\n",
    "3. Наличие дубликатов в датасетах не очевидно:\n",
    "\n",
    "    а) catalog_names: треки и альбомы могут как иметь, так и не иметь одинаковые названия, у исполнителей могут быть одинаковые имена, тем не менее одинаковые объекты могут иметь различные id.\\\n",
    "    б) tracs: треки могут иметь более одного исполнителя, относиться к нескольким жанрам и альбомам, id которых сохранены в виде списков в соответствующих колонках. В списках могут значиться id одинаковых объектов из catalog_names, тем не менее даже одинаковый жанр, исполнитель и альбом не означает, что встречен дубликат трека\\\n",
    "    в) interactions: дубликатов по сочетанию пользователя, трека и даты не найдено, однако некоторы треки все-таки могут быть дубликатами.\n",
    "        \n",
    "    Будем считать, что существует 1 000 000 уникальных треков, то есть в tracs нет дубликатов, значит, события в interactions также уникальны. Тем не менее к одному треку в tracs нередко относится список альбомов или исполнителей, ссылающийся на объекты с одинаковыми именами в catalog_names, а иногда и альбомы и исполнители разные. Очистка датасета от подобных ошибок требует более детального анализа, который будет проведен при формирования более удобных датасетов для дальнейшего обучения моделей.\n",
    "\n",
    "4. В interactions индексация обнулялась для каждого user_id (по аналогии со столбцом 'track_seq'), индексация заменена на сквозную.\n",
    "    \n",
    "5. Не все id жанров, присутствующие в tracks, есть в каталоге catalog_names.\n",
    "\n",
    "    Для удобства сразу составим таблицы tracs_by_users и genres_by_users, посчитаем количество пользователей для каждого объекта. Будем считать, что в датасете 173 уникальных жанра, из них 143 есть каталоге catalog_names, еще 30 в каталоге отсутствуют, им были даны имена вида 'other_genre_{id}'."
   ]
  },
  {
   "cell_type": "markdown",
   "id": "7bc3296b-eba6-4333-a78d-b9304aa87e3d",
   "metadata": {},
   "source": [
    "# === ЭТАП 2 ==="
   ]
  },
  {
   "cell_type": "markdown",
   "id": "68e73960-fd38-4e15-8db0-9a25c35dfd25",
   "metadata": {},
   "source": [
    "# EDA"
   ]
  },
  {
   "cell_type": "code",
   "execution_count": 305,
   "id": "3a0e233f",
   "metadata": {},
   "outputs": [
    {
     "name": "stdout",
     "output_type": "stream",
     "text": [
      "(1000000, 4)\n",
      "(222629898, 4)\n",
      "(1000000, 3)\n",
      "(173, 3)\n"
     ]
    }
   ],
   "source": [
    "#tracks: (1000000, 4)\n",
    "#interaction: (222629898, 4)\n",
    "#tracs_by_users: (1000000, 3)\n",
    "#genres_by_users: (173, 3)\n",
    "\n",
    "print(tracks.shape)\n",
    "print(interaction.shape)\n",
    "print(tracs_by_users.shape)\n",
    "print(genres_by_users.shape)"
   ]
  },
  {
   "cell_type": "markdown",
   "id": "a30e823e-8e0f-4a76-a02e-8d1ba8bf0f8a",
   "metadata": {},
   "source": [
    "Распределение количества прослушанных треков."
   ]
  },
  {
   "cell_type": "code",
   "execution_count": 6,
   "id": "9bf5eaba-35f7-4da7-be59-9ab4a34b2423",
   "metadata": {},
   "outputs": [],
   "source": [
    "interaction[\"started_at_month\"] = pd.to_datetime(interaction[\"started_at\"]).dt.to_period('M').dt.to_timestamp().dt.date"
   ]
  },
  {
   "cell_type": "code",
   "execution_count": 8,
   "id": "6c435790",
   "metadata": {},
   "outputs": [],
   "source": [
    "interactions_by_month = interaction.groupby(\"started_at_month\").agg(events=(\"started_at\", \"count\"), users=(\"user_id\", \"nunique\")).reset_index()"
   ]
  },
  {
   "cell_type": "code",
   "execution_count": 9,
   "id": "785b0d72",
   "metadata": {},
   "outputs": [
    {
     "data": {
      "text/html": [
       "<div>\n",
       "<style scoped>\n",
       "    .dataframe tbody tr th:only-of-type {\n",
       "        vertical-align: middle;\n",
       "    }\n",
       "\n",
       "    .dataframe tbody tr th {\n",
       "        vertical-align: top;\n",
       "    }\n",
       "\n",
       "    .dataframe thead th {\n",
       "        text-align: right;\n",
       "    }\n",
       "</style>\n",
       "<table border=\"1\" class=\"dataframe\">\n",
       "  <thead>\n",
       "    <tr style=\"text-align: right;\">\n",
       "      <th></th>\n",
       "      <th>started_at_month</th>\n",
       "      <th>events</th>\n",
       "      <th>users</th>\n",
       "    </tr>\n",
       "  </thead>\n",
       "  <tbody>\n",
       "    <tr>\n",
       "      <th>0</th>\n",
       "      <td>2022-01-01</td>\n",
       "      <td>2409541</td>\n",
       "      <td>126224</td>\n",
       "    </tr>\n",
       "    <tr>\n",
       "      <th>1</th>\n",
       "      <td>2022-02-01</td>\n",
       "      <td>4533363</td>\n",
       "      <td>227852</td>\n",
       "    </tr>\n",
       "    <tr>\n",
       "      <th>2</th>\n",
       "      <td>2022-03-01</td>\n",
       "      <td>7691225</td>\n",
       "      <td>344333</td>\n",
       "    </tr>\n",
       "    <tr>\n",
       "      <th>3</th>\n",
       "      <td>2022-04-01</td>\n",
       "      <td>10230295</td>\n",
       "      <td>454378</td>\n",
       "    </tr>\n",
       "    <tr>\n",
       "      <th>4</th>\n",
       "      <td>2022-05-01</td>\n",
       "      <td>13613489</td>\n",
       "      <td>569813</td>\n",
       "    </tr>\n",
       "    <tr>\n",
       "      <th>5</th>\n",
       "      <td>2022-06-01</td>\n",
       "      <td>16266558</td>\n",
       "      <td>676467</td>\n",
       "    </tr>\n",
       "    <tr>\n",
       "      <th>6</th>\n",
       "      <td>2022-07-01</td>\n",
       "      <td>20188819</td>\n",
       "      <td>788369</td>\n",
       "    </tr>\n",
       "    <tr>\n",
       "      <th>7</th>\n",
       "      <td>2022-08-01</td>\n",
       "      <td>23919641</td>\n",
       "      <td>892539</td>\n",
       "    </tr>\n",
       "    <tr>\n",
       "      <th>8</th>\n",
       "      <td>2022-09-01</td>\n",
       "      <td>26953965</td>\n",
       "      <td>979781</td>\n",
       "    </tr>\n",
       "    <tr>\n",
       "      <th>9</th>\n",
       "      <td>2022-10-01</td>\n",
       "      <td>31810464</td>\n",
       "      <td>1056636</td>\n",
       "    </tr>\n",
       "    <tr>\n",
       "      <th>10</th>\n",
       "      <td>2022-11-01</td>\n",
       "      <td>33968803</td>\n",
       "      <td>1081320</td>\n",
       "    </tr>\n",
       "    <tr>\n",
       "      <th>11</th>\n",
       "      <td>2022-12-01</td>\n",
       "      <td>31043735</td>\n",
       "      <td>995485</td>\n",
       "    </tr>\n",
       "  </tbody>\n",
       "</table>\n",
       "</div>"
      ],
      "text/plain": [
       "   started_at_month    events    users\n",
       "0        2022-01-01   2409541   126224\n",
       "1        2022-02-01   4533363   227852\n",
       "2        2022-03-01   7691225   344333\n",
       "3        2022-04-01  10230295   454378\n",
       "4        2022-05-01  13613489   569813\n",
       "5        2022-06-01  16266558   676467\n",
       "6        2022-07-01  20188819   788369\n",
       "7        2022-08-01  23919641   892539\n",
       "8        2022-09-01  26953965   979781\n",
       "9        2022-10-01  31810464  1056636\n",
       "10       2022-11-01  33968803  1081320\n",
       "11       2022-12-01  31043735   995485"
      ]
     },
     "execution_count": 9,
     "metadata": {},
     "output_type": "execute_result"
    }
   ],
   "source": [
    "interactions_by_month"
   ]
  },
  {
   "cell_type": "code",
   "execution_count": 10,
   "id": "ca39788d",
   "metadata": {},
   "outputs": [
    {
     "data": {
      "image/png": "[encoded data removed]",
      "text/plain": [
       "<Figure size 1200x600 with 2 Axes>"
      ]
     },
     "metadata": {},
     "output_type": "display_data"
    }
   ],
   "source": [
    "# распределение взаимодействий\\пользователей по месяцам\n",
    "\n",
    "fig, axs = plt.subplots(2, 1, figsize=(12, 6))\n",
    "\n",
    "ax = axs[0]\n",
    "sns.barplot(data=interactions_by_month, x=\"started_at_month\", y=\"events\", ax=ax)\n",
    "ax.set_title(\"#events by months\")\n",
    "\n",
    "ax = axs[1]\n",
    "sns.barplot(data=interactions_by_month, x=\"started_at_month\", y=\"users\", ax=ax)\n",
    "ax.set_title(\"#users by months\")\n",
    "\n",
    "fig.tight_layout()"
   ]
  },
  {
   "cell_type": "markdown",
   "id": "d765519a-18dd-4d30-9e29-cc2d84cacd79",
   "metadata": {},
   "source": [
    "Наиболее популярные треки"
   ]
  },
  {
   "cell_type": "code",
   "execution_count": 296,
   "id": "2140bffb",
   "metadata": {},
   "outputs": [
    {
     "data": {
      "text/html": [
       "<div>\n",
       "<style scoped>\n",
       "    .dataframe tbody tr th:only-of-type {\n",
       "        vertical-align: middle;\n",
       "    }\n",
       "\n",
       "    .dataframe tbody tr th {\n",
       "        vertical-align: top;\n",
       "    }\n",
       "\n",
       "    .dataframe thead th {\n",
       "        text-align: right;\n",
       "    }\n",
       "</style>\n",
       "<table border=\"1\" class=\"dataframe\">\n",
       "  <thead>\n",
       "    <tr style=\"text-align: right;\">\n",
       "      <th></th>\n",
       "      <th>track_id</th>\n",
       "      <th>num_users</th>\n",
       "      <th>name</th>\n",
       "    </tr>\n",
       "  </thead>\n",
       "  <tbody>\n",
       "    <tr>\n",
       "      <th>9098</th>\n",
       "      <td>53404</td>\n",
       "      <td>111062</td>\n",
       "      <td>Smells Like Teen Spirit</td>\n",
       "    </tr>\n",
       "    <tr>\n",
       "      <th>483876</th>\n",
       "      <td>33311009</td>\n",
       "      <td>106921</td>\n",
       "      <td>Believer</td>\n",
       "    </tr>\n",
       "    <tr>\n",
       "      <th>26665</th>\n",
       "      <td>178529</td>\n",
       "      <td>101924</td>\n",
       "      <td>Numb</td>\n",
       "    </tr>\n",
       "    <tr>\n",
       "      <th>512157</th>\n",
       "      <td>35505245</td>\n",
       "      <td>99490</td>\n",
       "      <td>I Got Love</td>\n",
       "    </tr>\n",
       "    <tr>\n",
       "      <th>829320</th>\n",
       "      <td>65851540</td>\n",
       "      <td>86670</td>\n",
       "      <td>Юность</td>\n",
       "    </tr>\n",
       "  </tbody>\n",
       "</table>\n",
       "</div>"
      ],
      "text/plain": [
       "        track_id  num_users                     name\n",
       "9098       53404     111062  Smells Like Teen Spirit\n",
       "483876  33311009     106921                 Believer\n",
       "26665     178529     101924                     Numb\n",
       "512157  35505245      99490               I Got Love\n",
       "829320  65851540      86670                   Юность"
      ]
     },
     "execution_count": 296,
     "metadata": {},
     "output_type": "execute_result"
    }
   ],
   "source": [
    "#топ-5 самых популярных треков\n",
    "\n",
    "tracs_by_users.sort_values('num_users', ascending=False).head(5)"
   ]
  },
  {
   "cell_type": "markdown",
   "id": "b1c32a5a-d3be-4f96-8dd9-f7860951020c",
   "metadata": {},
   "source": [
    "Наиболее популярные жанры"
   ]
  },
  {
   "cell_type": "code",
   "execution_count": 295,
   "id": "c6beab2d",
   "metadata": {},
   "outputs": [
    {
     "data": {
      "text/html": [
       "<div>\n",
       "<style scoped>\n",
       "    .dataframe tbody tr th:only-of-type {\n",
       "        vertical-align: middle;\n",
       "    }\n",
       "\n",
       "    .dataframe tbody tr th {\n",
       "        vertical-align: top;\n",
       "    }\n",
       "\n",
       "    .dataframe thead th {\n",
       "        text-align: right;\n",
       "    }\n",
       "</style>\n",
       "<table border=\"1\" class=\"dataframe\">\n",
       "  <thead>\n",
       "    <tr style=\"text-align: right;\">\n",
       "      <th></th>\n",
       "      <th>genre_id</th>\n",
       "      <th>num_users</th>\n",
       "      <th>name</th>\n",
       "    </tr>\n",
       "  </thead>\n",
       "  <tbody>\n",
       "    <tr>\n",
       "      <th>0</th>\n",
       "      <td>11</td>\n",
       "      <td>55578312</td>\n",
       "      <td>pop</td>\n",
       "    </tr>\n",
       "    <tr>\n",
       "      <th>21</th>\n",
       "      <td>75</td>\n",
       "      <td>37799821</td>\n",
       "      <td>rap</td>\n",
       "    </tr>\n",
       "    <tr>\n",
       "      <th>3</th>\n",
       "      <td>102</td>\n",
       "      <td>31092013</td>\n",
       "      <td>allrock</td>\n",
       "    </tr>\n",
       "    <tr>\n",
       "      <th>75</th>\n",
       "      <td>20</td>\n",
       "      <td>26626241</td>\n",
       "      <td>ruspop</td>\n",
       "    </tr>\n",
       "    <tr>\n",
       "      <th>89</th>\n",
       "      <td>3</td>\n",
       "      <td>25303695</td>\n",
       "      <td>rusrap</td>\n",
       "    </tr>\n",
       "  </tbody>\n",
       "</table>\n",
       "</div>"
      ],
      "text/plain": [
       "    genre_id  num_users     name\n",
       "0         11   55578312      pop\n",
       "21        75   37799821      rap\n",
       "3        102   31092013  allrock\n",
       "75        20   26626241   ruspop\n",
       "89         3   25303695   rusrap"
      ]
     },
     "execution_count": 295,
     "metadata": {},
     "output_type": "execute_result"
    }
   ],
   "source": [
    "#топ 5 самых популярных жанров\n",
    "\n",
    "genres_by_users.sort_values('num_users', ascending=False).head(5)"
   ]
  },
  {
   "cell_type": "markdown",
   "id": "15254e66-e80e-473b-ba24-abebea5ccac7",
   "metadata": {},
   "source": [
    "Треки, которые никто не прослушал"
   ]
  },
  {
   "cell_type": "code",
   "execution_count": 15,
   "id": "c2516e19",
   "metadata": {},
   "outputs": [],
   "source": [
    "track_ids_in_events = interaction['track_id'].drop_duplicates().to_list()"
   ]
  },
  {
   "cell_type": "code",
   "execution_count": 16,
   "id": "3d32658c",
   "metadata": {},
   "outputs": [
    {
     "data": {
      "text/html": [
       "<div>\n",
       "<style scoped>\n",
       "    .dataframe tbody tr th:only-of-type {\n",
       "        vertical-align: middle;\n",
       "    }\n",
       "\n",
       "    .dataframe tbody tr th {\n",
       "        vertical-align: top;\n",
       "    }\n",
       "\n",
       "    .dataframe thead th {\n",
       "        text-align: right;\n",
       "    }\n",
       "</style>\n",
       "<table border=\"1\" class=\"dataframe\">\n",
       "  <thead>\n",
       "    <tr style=\"text-align: right;\">\n",
       "      <th></th>\n",
       "      <th>track_id</th>\n",
       "      <th>albums</th>\n",
       "      <th>artists</th>\n",
       "      <th>genres</th>\n",
       "    </tr>\n",
       "  </thead>\n",
       "  <tbody>\n",
       "  </tbody>\n",
       "</table>\n",
       "</div>"
      ],
      "text/plain": [
       "Empty DataFrame\n",
       "Columns: [track_id, albums, artists, genres]\n",
       "Index: []"
      ]
     },
     "execution_count": 16,
     "metadata": {},
     "output_type": "execute_result"
    }
   ],
   "source": [
    "tracks.loc[~tracks['track_id'].isin(track_ids_in_events)]"
   ]
  },
  {
   "cell_type": "code",
   "execution_count": 294,
   "id": "502d6788",
   "metadata": {},
   "outputs": [
    {
     "data": {
      "text/html": [
       "<div>\n",
       "<style scoped>\n",
       "    .dataframe tbody tr th:only-of-type {\n",
       "        vertical-align: middle;\n",
       "    }\n",
       "\n",
       "    .dataframe tbody tr th {\n",
       "        vertical-align: top;\n",
       "    }\n",
       "\n",
       "    .dataframe thead th {\n",
       "        text-align: right;\n",
       "    }\n",
       "</style>\n",
       "<table border=\"1\" class=\"dataframe\">\n",
       "  <thead>\n",
       "    <tr style=\"text-align: right;\">\n",
       "      <th></th>\n",
       "      <th>track_id</th>\n",
       "      <th>num_users</th>\n",
       "      <th>name</th>\n",
       "    </tr>\n",
       "  </thead>\n",
       "  <tbody>\n",
       "    <tr>\n",
       "      <th>946152</th>\n",
       "      <td>84393799</td>\n",
       "      <td>5</td>\n",
       "      <td>Гарри Поттер - детство сердца и беда!</td>\n",
       "    </tr>\n",
       "    <tr>\n",
       "      <th>946151</th>\n",
       "      <td>84393776</td>\n",
       "      <td>5</td>\n",
       "      <td>Что такое Scrum, для чего он нужен и кому подх...</td>\n",
       "    </tr>\n",
       "    <tr>\n",
       "      <th>946139</th>\n",
       "      <td>84392043</td>\n",
       "      <td>5</td>\n",
       "      <td>gogobebe (Inst.)</td>\n",
       "    </tr>\n",
       "    <tr>\n",
       "      <th>360338</th>\n",
       "      <td>24149512</td>\n",
       "      <td>5</td>\n",
       "      <td>Соблюдай спокойствие</td>\n",
       "    </tr>\n",
       "    <tr>\n",
       "      <th>360396</th>\n",
       "      <td>24154947</td>\n",
       "      <td>5</td>\n",
       "      <td>Window Seat</td>\n",
       "    </tr>\n",
       "  </tbody>\n",
       "</table>\n",
       "</div>"
      ],
      "text/plain": [
       "        track_id  num_users                                               name\n",
       "946152  84393799          5              Гарри Поттер - детство сердца и беда!\n",
       "946151  84393776          5  Что такое Scrum, для чего он нужен и кому подх...\n",
       "946139  84392043          5                                   gogobebe (Inst.)\n",
       "360338  24149512          5                               Соблюдай спокойствие\n",
       "360396  24154947          5                                        Window Seat"
      ]
     },
     "execution_count": 294,
     "metadata": {},
     "output_type": "execute_result"
    }
   ],
   "source": [
    "#треков, которые никто не прослушал, в базе нет\n",
    "#топ 5 самых непопулярных треков -- минимум 5 слушателей\n",
    "\n",
    "tracs_by_users.sort_values('num_users', ascending=False).tail(5)"
   ]
  },
  {
   "cell_type": "markdown",
   "id": "d5f44363",
   "metadata": {},
   "source": [
    "## Выводы\n",
    "1. Количество пользователей сервиса и взаимодействия с ним росло до 10.2022, затем установилось примерно на одном уровне (около $10^6$ пользователей и $3\\cdot 10^7$ взаимодействий)\n",
    "2. Самый популярный трек на 12.2022 - Smells Like Teen Spirit, Nirvana (id=53404), за год его прослушали 111062 раз.\n",
    "3. Самый полпулярный жанр на 12.2022 - pop (id=11), за год песни этого жанра прослушали 55578312 раз.\n",
    "4. Треков, которые никто за году не прослушал в базе данных нет, каждый трек прослушали как минимум 5 раз"
   ]
  },
  {
   "cell_type": "markdown",
   "id": "a03d0300",
   "metadata": {},
   "source": []
  },
  {
   "cell_type": "markdown",
   "id": "0d850a07-ef1e-462f-891a-1cf89f2e24ef",
   "metadata": {},
   "source": [
    "# Преобразование данных"
   ]
  },
  {
   "cell_type": "markdown",
   "id": "fabcf8d2-1192-4df5-b20b-fbb84689f57a",
   "metadata": {},
   "source": [
    "Преобразуем данные в формат, более пригодный для дальнейшего использования в расчётах рекомендаций."
   ]
  },
  {
   "cell_type": "code",
   "execution_count": 22,
   "id": "f8465b31",
   "metadata": {},
   "outputs": [
    {
     "name": "stdout",
     "output_type": "stream",
     "text": [
      "(1000000, 4)\n",
      "(1812471, 3)\n",
      "(222629898, 4)\n",
      "(1000000, 3)\n",
      "(173, 3)\n"
     ]
    }
   ],
   "source": [
    "#tracks: (1000000, 4)\n",
    "#catalog_names: (1812471, 3)\n",
    "#interaction: (222629898, 4)\n",
    "\n",
    "#tracs_by_users: (1000000, 3)\n",
    "#genres_by_users: (173, 3)\n",
    "\n",
    "print(tracks.shape)\n",
    "print(catalog_names.shape)\n",
    "print(interaction.shape)\n",
    "\n",
    "print(tracs_by_users.shape)\n",
    "print(genres_by_users.shape)\n"
   ]
  },
  {
   "cell_type": "code",
   "execution_count": 23,
   "id": "7e4e9c99",
   "metadata": {},
   "outputs": [],
   "source": [
    "#для ускорения разделим каталог по type\n",
    "artists_names = catalog_names.query('type==\"artist\"')[['id', 'name']].rename(columns={'id':'artist_id'})\n",
    "album_names = catalog_names.query('type==\"album\"')[['id', 'name']].rename(columns={'id':'album_id'})"
   ]
  },
  {
   "cell_type": "code",
   "execution_count": null,
   "id": "0b63c1c3",
   "metadata": {},
   "outputs": [
    {
     "name": "stdout",
     "output_type": "stream",
     "text": [
      "k= 1000000 steps in 1000000\r"
     ]
    }
   ],
   "source": [
    "#заменим id артистов, альбомов и жанров в tracks на их имена, одновременно удалим дубликаты имен\n",
    "#(~ 7 мин)\n",
    "\n",
    "for k, v, in tracks.iterrows():\n",
    "\n",
    "    genres = v['genres']\n",
    "    track_id = v['track_id']\n",
    "\n",
    "    if ((k+1)%100000 == 0):\n",
    "        print('k=',(k+1),'steps in',len(tracks), end='\\r')\n",
    "\n",
    "    genres_list = []\n",
    "    for genre in genres:\n",
    "        ans = list(genres_by_users.loc[genres_by_users['genre_id']==genre]['name'])[0]\n",
    "        genres_list.append(ans)\n",
    "    genres_list = list(set(genres_list))\n",
    "\n",
    "    tracks.at[k, \"genres\"] = genres_list"
   ]
  },
  {
   "cell_type": "code",
   "execution_count": null,
   "id": "60997d87",
   "metadata": {},
   "outputs": [
    {
     "name": "stdout",
     "output_type": "stream",
     "text": [
      "k= 1000000 steps in 1000000\r"
     ]
    }
   ],
   "source": [
    "#(~ 8 мин)\n",
    "for k, v, in tracks.iterrows():\n",
    "\n",
    "    artists = v['artists']\n",
    "    track_id = v['track_id']\n",
    "\n",
    "    if ((k+1)%10000 == 0):\n",
    "        print('k=',(k+1),'steps in',len(tracks), end='\\r')\n",
    "    artist_list = []\n",
    "    for artist in artists:\n",
    "        ans = list(artists_names.loc[artists_names['artist_id']==artist]['name'])[0]\n",
    "        artist_list.append(ans)\n",
    "    artist_list = list(set(artist_list))\n",
    "\n",
    "    tracks.at[k, \"artists\"] = artist_list"
   ]
  },
  {
   "cell_type": "code",
   "execution_count": 26,
   "id": "aab86c0a",
   "metadata": {},
   "outputs": [
    {
     "name": "stdout",
     "output_type": "stream",
     "text": [
      "k= 1000000 steps in 1000000\r"
     ]
    }
   ],
   "source": [
    "#(~ 16 мин)\n",
    "for k, v, in tracks.iterrows():\n",
    "\n",
    "    albums = v['albums'] \n",
    "    track_id = v['track_id']\n",
    "\n",
    "    if ((k+1)%10000 == 0):\n",
    "        print('k=',(k+1),'steps in',len(tracks), end='\\r')\n",
    "\n",
    "    album_list = []\n",
    "    for album in albums:\n",
    "        ans = list(album_names.loc[album_names['album_id']==album]['name'])[0]\n",
    "        album_list.append(ans)\n",
    "    album_list = list(set(album_list))\n",
    "\n",
    "    tracks.at[k, \"albums\"] = album_list"
   ]
  },
  {
   "cell_type": "code",
   "execution_count": 27,
   "id": "33b03744",
   "metadata": {},
   "outputs": [],
   "source": [
    "tracks = tracks.merge(tracs_by_users[['track_id', 'name', 'num_users']], on='track_id', how='left')\n",
    "tracks = tracks.rename(columns={'track_id':'item_id'})"
   ]
  },
  {
   "cell_type": "code",
   "execution_count": 28,
   "id": "60042395",
   "metadata": {},
   "outputs": [],
   "source": [
    "scaler = MinMaxScaler()\n",
    "tracks[[\"num_users_norm\"]] = scaler.fit_transform(tracks[[\"num_users\"]])"
   ]
  },
  {
   "cell_type": "code",
   "execution_count": 29,
   "id": "ac0c8d83",
   "metadata": {},
   "outputs": [],
   "source": [
    "tracks.to_parquet(\"data_artifacts/items.parquet\")"
   ]
  },
  {
   "cell_type": "code",
   "execution_count": null,
   "id": "52fa2c84",
   "metadata": {},
   "outputs": [],
   "source": []
  },
  {
   "cell_type": "code",
   "execution_count": 32,
   "id": "dec39626",
   "metadata": {},
   "outputs": [],
   "source": [
    "interaction = interaction.rename(columns={'track_id':'item_id'})"
   ]
  },
  {
   "cell_type": "code",
   "execution_count": 33,
   "id": "d760876c",
   "metadata": {},
   "outputs": [],
   "source": [
    "interaction['listened'] = 1"
   ]
  },
  {
   "cell_type": "code",
   "execution_count": 34,
   "id": "03a45517",
   "metadata": {},
   "outputs": [],
   "source": [
    "interaction = interaction.merge(tracks[['item_id', 'num_users_norm']], on='item_id', how='left')"
   ]
  },
  {
   "cell_type": "code",
   "execution_count": 35,
   "id": "a425556a-9382-45ca-a04e-f1981a522126",
   "metadata": {},
   "outputs": [],
   "source": [
    "interaction.to_parquet(\"data_artifacts/events.parquet\")"
   ]
  },
  {
   "cell_type": "markdown",
   "id": "4d1be653-eed8-4fa0-a9c5-3811b080d71d",
   "metadata": {},
   "source": [
    "# Сохранение данных"
   ]
  },
  {
   "cell_type": "markdown",
   "id": "36f1314a-3af3-4faf-a0b1-3045173d1500",
   "metadata": {},
   "source": [
    "Сохраним данные в двух файлах в персональном S3-бакете по пути `recsys/data/`:\n",
    "- `items.parquet` — все данные о музыкальных треках,\n",
    "- `events.parquet` — все данные о взаимодействиях."
   ]
  },
  {
   "cell_type": "code",
   "execution_count": null,
   "id": "9f77af17-7705-4fae-9aad-db579b39faad",
   "metadata": {},
   "outputs": [],
   "source": []
  },
  {
   "cell_type": "markdown",
   "id": "72ecbbed-c560-44d9-9c14-86c7dc76f399",
   "metadata": {},
   "source": [
    "# Очистка памяти"
   ]
  },
  {
   "cell_type": "markdown",
   "id": "b5358ede-ba6e-4c4f-bd73-5b9344f0ba79",
   "metadata": {},
   "source": [
    "Здесь, может понадобится очистка памяти для высвобождения ресурсов для выполнения кода ниже. \n",
    "\n",
    "Приведите соответствующие код, комментарии, например:\n",
    "- код для удаление более ненужных переменных,\n",
    "- комментарий, что следует перезапустить kernel, выполнить такие-то начальные секции и продолжить с этапа 3."
   ]
  },
  {
   "cell_type": "code",
   "execution_count": null,
   "id": "767fe920-e12e-4ad8-b04e-56e8091fac9f",
   "metadata": {},
   "outputs": [],
   "source": [
    "#лучше будет перезапустить ядро jupyter\n",
    "\n",
    "del interaction\n",
    "del tracks\n",
    "\n",
    "del tracs_by_users\n",
    "del genres_by_users\n",
    "del album_names\n",
    "del artists_names\n"
   ]
  },
  {
   "cell_type": "markdown",
   "id": "708503df-ee89-4cf3-8489-093dc478e2a8",
   "metadata": {},
   "source": [
    "# === ЭТАП 3 ==="
   ]
  },
  {
   "cell_type": "markdown",
   "id": "fd77de22-e10f-4b42-85c1-8fb6f805fe68",
   "metadata": {},
   "source": [
    "# Загрузка данных"
   ]
  },
  {
   "cell_type": "markdown",
   "id": "780a4241-1ecd-4a3e-bbb3-fc2f6ca94f68",
   "metadata": {},
   "source": [
    "Если необходимо, то загружаем items.parquet, events.parquet."
   ]
  },
  {
   "cell_type": "code",
   "execution_count": 38,
   "id": "f19fc8a5-bd2c-40d7-864a-ee75aca6d512",
   "metadata": {},
   "outputs": [],
   "source": [
    "items = pd.read_parquet(\"data_artifacts/items.parquet\")"
   ]
  },
  {
   "cell_type": "code",
   "execution_count": 2,
   "id": "df4d70e0",
   "metadata": {},
   "outputs": [],
   "source": [
    "events = pd.read_parquet(\"data_artifacts/events.parquet\")"
   ]
  },
  {
   "cell_type": "code",
   "execution_count": 40,
   "id": "5db1e801-5845-4ce3-86f2-c2fa30f68cc5",
   "metadata": {},
   "outputs": [
    {
     "name": "stdout",
     "output_type": "stream",
     "text": [
      "(1000000, 7)\n",
      "(222629898, 6)\n"
     ]
    }
   ],
   "source": [
    "#items: (1000000, 7)\n",
    "#events: (222629898, 7)\n",
    "\n",
    "print(items.shape)\n",
    "print(events.shape)"
   ]
  },
  {
   "cell_type": "markdown",
   "id": "a694c023-6477-490b-939d-1cfa6f5f1b72",
   "metadata": {},
   "source": [
    "# Разбиение данных"
   ]
  },
  {
   "cell_type": "markdown",
   "id": "fbd5f6e0-54e7-4428-8678-eabce505d82c",
   "metadata": {},
   "source": [
    "Разбиваем данные на тренировочную, тестовую выборки."
   ]
  },
  {
   "cell_type": "code",
   "execution_count": 3,
   "id": "8614aeb6",
   "metadata": {},
   "outputs": [],
   "source": [
    "train_test_global_time_split_date = pd.to_datetime(\"2022-12-16\").date()\n",
    "train_test_global_time_split_idx = events[\"started_at\"].dt.date < train_test_global_time_split_date"
   ]
  },
  {
   "cell_type": "code",
   "execution_count": 4,
   "id": "6cc682e5",
   "metadata": {},
   "outputs": [],
   "source": [
    "events_train = events[train_test_global_time_split_idx]\n",
    "events_test = events[~train_test_global_time_split_idx]"
   ]
  },
  {
   "cell_type": "code",
   "execution_count": 5,
   "id": "982b248e",
   "metadata": {},
   "outputs": [
    {
     "name": "stdout",
     "output_type": "stream",
     "text": [
      "1342566 783525 1373221\n",
      "(208731252, 6)\n",
      "(13898646, 6)\n"
     ]
    }
   ],
   "source": [
    "# количество пользователей в train, test и всего\n",
    "\n",
    "users_train = events_train[\"user_id\"].drop_duplicates()\n",
    "users_test = events_test[\"user_id\"].drop_duplicates()\n",
    "users_all = events[\"user_id\"].drop_duplicates()\n",
    "\n",
    "\n",
    "print( len(users_train), len(users_test), len(users_all))\n",
    "print(events_train.shape)\n",
    "print(events_test.shape)"
   ]
  },
  {
   "cell_type": "code",
   "execution_count": 6,
   "id": "4234c280",
   "metadata": {},
   "outputs": [
    {
     "name": "stdout",
     "output_type": "stream",
     "text": [
      "752870 30655\n"
     ]
    }
   ],
   "source": [
    "#количество пользователей, которые есть и в train и test и \"холодных\" пользователей, которые есть только в test \n",
    "\n",
    "common_users = events_test[events_test[\"user_id\"].isin(users_train)][\"user_id\"].drop_duplicates()\n",
    "cold_users = events_test[~events_test[\"user_id\"].isin(users_train)][\"user_id\"].drop_duplicates()\n",
    "cold_users=pd.DataFrame(cold_users)\n",
    "common_users=pd.DataFrame(common_users)\n",
    "\n",
    "print(len(common_users), len(cold_users))"
   ]
  },
  {
   "cell_type": "code",
   "execution_count": 7,
   "id": "735bc534",
   "metadata": {},
   "outputs": [],
   "source": [
    "cold_users.to_parquet(\"tmp/cold_users.parquet\")\n",
    "common_users.to_parquet(\"tmp/common_users.parquet\")"
   ]
  },
  {
   "cell_type": "code",
   "execution_count": 8,
   "id": "a2a61d79",
   "metadata": {},
   "outputs": [],
   "source": [
    "events_train.to_parquet(\"tmp/events_train.parquet\")\n",
    "events_test.to_parquet(\"tmp/events_test.parquet\")"
   ]
  },
  {
   "cell_type": "markdown",
   "id": "9131c7e6-8852-4556-b510-51f7253cc299",
   "metadata": {},
   "source": [
    "# Топ популярных"
   ]
  },
  {
   "cell_type": "markdown",
   "id": "dd70d43a-88cc-4719-b291-feaed7136f30",
   "metadata": {},
   "source": [
    "Рассчитаем рекомендации как топ популярных."
   ]
  },
  {
   "cell_type": "code",
   "execution_count": 2,
   "id": "3b2130d9",
   "metadata": {},
   "outputs": [],
   "source": [
    "cold_users = pd.read_parquet(\"tmp/cold_users.parquet\")\n",
    "common_users = pd.read_parquet(\"tmp/common_users.parquet\")\n",
    "items = pd.read_parquet(\"data_artifacts/items.parquet\")\n",
    "events_train = pd.read_parquet(\"tmp/events_train.parquet\")\n",
    "events_test = pd.read_parquet(\"tmp/events_test.parquet\")"
   ]
  },
  {
   "cell_type": "code",
   "execution_count": 3,
   "id": "c4d677d8",
   "metadata": {},
   "outputs": [
    {
     "name": "stdout",
     "output_type": "stream",
     "text": [
      "(30655, 1)\n",
      "(752870, 1)\n",
      "(1000000, 7)\n",
      "(208731252, 6)\n",
      "(13898646, 6)\n"
     ]
    }
   ],
   "source": [
    "#cold_users: (30655, 1)\n",
    "#common_users: (752870, 1)\n",
    "#items: (1000000, 7)\n",
    "#events_train: (208731252, 6)\n",
    "#events_test: (13898646, 6)\n",
    "\n",
    "print(cold_users.shape)\n",
    "print(common_users.shape)\n",
    "print(items.shape)\n",
    "print(events_train.shape)\n",
    "print(events_test.shape)\n"
   ]
  },
  {
   "cell_type": "code",
   "execution_count": 4,
   "id": "6b6bed4b",
   "metadata": {},
   "outputs": [],
   "source": [
    "top_pop_start_date = pd.to_datetime(\"2022-09-01\").date()\n",
    "item_popularity = events_train.query(\"started_at >= @top_pop_start_date\")[['user_id', 'item_id', 'num_users_norm']]"
   ]
  },
  {
   "cell_type": "code",
   "execution_count": 5,
   "id": "f7b0e672",
   "metadata": {},
   "outputs": [],
   "source": [
    "del events_train"
   ]
  },
  {
   "cell_type": "code",
   "execution_count": 6,
   "id": "37952102",
   "metadata": {},
   "outputs": [],
   "source": [
    "item_popularity = item_popularity.groupby([\"item_id\"]).agg(users_top=(\"user_id\", \"count\")).reset_index()"
   ]
  },
  {
   "cell_type": "code",
   "execution_count": 7,
   "id": "bc9ec52b",
   "metadata": {},
   "outputs": [],
   "source": [
    "scaler = MinMaxScaler()\n",
    "item_popularity[[\"users_top_norm\"]] = scaler.fit_transform(\n",
    "    item_popularity[[\"users_top\"]])\n"
   ]
  },
  {
   "cell_type": "code",
   "execution_count": 8,
   "id": "7c4a2ff2",
   "metadata": {},
   "outputs": [
    {
     "data": {
      "text/html": [
       "<div>\n",
       "<style scoped>\n",
       "    .dataframe tbody tr th:only-of-type {\n",
       "        vertical-align: middle;\n",
       "    }\n",
       "\n",
       "    .dataframe tbody tr th {\n",
       "        vertical-align: top;\n",
       "    }\n",
       "\n",
       "    .dataframe thead th {\n",
       "        text-align: right;\n",
       "    }\n",
       "</style>\n",
       "<table border=\"1\" class=\"dataframe\">\n",
       "  <thead>\n",
       "    <tr style=\"text-align: right;\">\n",
       "      <th></th>\n",
       "      <th>item_id</th>\n",
       "      <th>users_top</th>\n",
       "      <th>users_top_norm</th>\n",
       "      <th>num_users_norm</th>\n",
       "      <th>name</th>\n",
       "      <th>albums</th>\n",
       "      <th>artists</th>\n",
       "      <th>genres</th>\n",
       "    </tr>\n",
       "  </thead>\n",
       "  <tbody>\n",
       "    <tr>\n",
       "      <th>0</th>\n",
       "      <td>60292250</td>\n",
       "      <td>58498</td>\n",
       "      <td>1.000000</td>\n",
       "      <td>0.760564</td>\n",
       "      <td>Blinding Lights</td>\n",
       "      <td>[The Highlights, After Hours, Blinding Lights]</td>\n",
       "      <td>[The Weeknd]</td>\n",
       "      <td>[rnb]</td>\n",
       "    </tr>\n",
       "    <tr>\n",
       "      <th>1</th>\n",
       "      <td>65851540</td>\n",
       "      <td>58351</td>\n",
       "      <td>0.997487</td>\n",
       "      <td>0.780365</td>\n",
       "      <td>Юность</td>\n",
       "      <td>[Юность]</td>\n",
       "      <td>[Dabro]</td>\n",
       "      <td>[pop, ruspop]</td>\n",
       "    </tr>\n",
       "    <tr>\n",
       "      <th>2</th>\n",
       "      <td>33311009</td>\n",
       "      <td>54978</td>\n",
       "      <td>0.939826</td>\n",
       "      <td>0.962713</td>\n",
       "      <td>Believer</td>\n",
       "      <td>[Video Game Soundtracks, Tik Tock Songs, Sing ...</td>\n",
       "      <td>[Imagine Dragons]</td>\n",
       "      <td>[rock, allrock]</td>\n",
       "    </tr>\n",
       "    <tr>\n",
       "      <th>3</th>\n",
       "      <td>51241318</td>\n",
       "      <td>52950</td>\n",
       "      <td>0.905158</td>\n",
       "      <td>0.767525</td>\n",
       "      <td>In The End</td>\n",
       "      <td>[Techno House Hits, 神曲大百科 Vol.1, Tik Tock Esta...</td>\n",
       "      <td>[Mellen Gi, Tommee Profitt, Fleurie]</td>\n",
       "      <td>[rnb]</td>\n",
       "    </tr>\n",
       "    <tr>\n",
       "      <th>4</th>\n",
       "      <td>51516485</td>\n",
       "      <td>50861</td>\n",
       "      <td>0.869446</td>\n",
       "      <td>0.705629</td>\n",
       "      <td>bad guy</td>\n",
       "      <td>[Summer Workout, Female Festival Stars, Sing I...</td>\n",
       "      <td>[Billie Eilish]</td>\n",
       "      <td>[indie]</td>\n",
       "    </tr>\n",
       "  </tbody>\n",
       "</table>\n",
       "</div>"
      ],
      "text/plain": [
       "    item_id  users_top  users_top_norm  num_users_norm             name  \\\n",
       "0  60292250      58498        1.000000        0.760564  Blinding Lights   \n",
       "1  65851540      58351        0.997487        0.780365           Юность   \n",
       "2  33311009      54978        0.939826        0.962713         Believer   \n",
       "3  51241318      52950        0.905158        0.767525       In The End   \n",
       "4  51516485      50861        0.869446        0.705629          bad guy   \n",
       "\n",
       "                                              albums  \\\n",
       "0     [The Highlights, After Hours, Blinding Lights]   \n",
       "1                                           [Юность]   \n",
       "2  [Video Game Soundtracks, Tik Tock Songs, Sing ...   \n",
       "3  [Techno House Hits, 神曲大百科 Vol.1, Tik Tock Esta...   \n",
       "4  [Summer Workout, Female Festival Stars, Sing I...   \n",
       "\n",
       "                                artists           genres  \n",
       "0                          [The Weeknd]            [rnb]  \n",
       "1                               [Dabro]    [pop, ruspop]  \n",
       "2                     [Imagine Dragons]  [rock, allrock]  \n",
       "3  [Mellen Gi, Tommee Profitt, Fleurie]            [rnb]  \n",
       "4                       [Billie Eilish]          [indie]  "
      ]
     },
     "metadata": {},
     "output_type": "display_data"
    }
   ],
   "source": [
    "#выбираем топ 100 самых популярных треков с 2022-09-01 по 2202-12-15\n",
    "\n",
    "item_popularity = item_popularity.sort_values('users_top_norm', ascending=False)\n",
    "top_popular = item_popularity.head(100)\n",
    "top_popular = top_popular.merge(items[['item_id', 'num_users_norm', 'name', 'albums', 'artists', 'genres']], on='item_id', how='left')\n",
    "display(top_popular.head(5))\n"
   ]
  },
  {
   "cell_type": "code",
   "execution_count": 9,
   "id": "8d87df88",
   "metadata": {},
   "outputs": [],
   "source": [
    "top_popular.to_parquet(\"recomendation/top_popular.parquet\")"
   ]
  },
  {
   "cell_type": "markdown",
   "id": "2ad231f2-6158-421a-b7fa-01d8bc3ed572",
   "metadata": {},
   "source": [
    "# Персональные"
   ]
  },
  {
   "cell_type": "markdown",
   "id": "86159460-cd9d-4b63-8248-604ea3c9aebf",
   "metadata": {},
   "source": [
    "Рассчитаем персональные рекомендации."
   ]
  },
  {
   "cell_type": "code",
   "execution_count": 2,
   "id": "d2944822-569c-4f9b-82dc-70a7fa2d542e",
   "metadata": {},
   "outputs": [],
   "source": [
    "events = pd.read_parquet(\"data_artifacts/events.parquet\")\n",
    "items = pd.read_parquet(\"data_artifacts/items.parquet\")"
   ]
  },
  {
   "cell_type": "code",
   "execution_count": null,
   "id": "05cfb871",
   "metadata": {},
   "outputs": [],
   "source": [
    "events_train = pd.read_parquet(\"tmp/events_train.parquet\")\n",
    "events_test = pd.read_parquet(\"tmp/events_test.parquet\")"
   ]
  },
  {
   "cell_type": "code",
   "execution_count": null,
   "id": "c02c0a02",
   "metadata": {},
   "outputs": [
    {
     "name": "stdout",
     "output_type": "stream",
     "text": [
      "(1000000, 7)\n",
      "(222629898, 6)\n",
      "(208731252, 6)\n",
      "(13898646, 6)\n"
     ]
    }
   ],
   "source": [
    "#items: (1000000, 7)\n",
    "#events: (222629898, 6)\n",
    "#events_train: (208731252, 6)\n",
    "#events_test: (13898646, 6)\n",
    "\n",
    "print(items.shape)\n",
    "print(events.shape)\n",
    "print(events_train.shape)\n",
    "print(events_test.shape)"
   ]
  },
  {
   "cell_type": "code",
   "execution_count": 4,
   "id": "18b35d86",
   "metadata": {},
   "outputs": [
    {
     "data": {
      "text/html": [
       "<style>#sk-container-id-1 {color: black;}#sk-container-id-1 pre{padding: 0;}#sk-container-id-1 div.sk-toggleable {background-color: white;}#sk-container-id-1 label.sk-toggleable__label {cursor: pointer;display: block;width: 100%;margin-bottom: 0;padding: 0.3em;box-sizing: border-box;text-align: center;}#sk-container-id-1 label.sk-toggleable__label-arrow:before {content: \"▸\";float: left;margin-right: 0.25em;color: #696969;}#sk-container-id-1 label.sk-toggleable__label-arrow:hover:before {color: black;}#sk-container-id-1 div.sk-estimator:hover label.sk-toggleable__label-arrow:before {color: black;}#sk-container-id-1 div.sk-toggleable__content {max-height: 0;max-width: 0;overflow: hidden;text-align: left;background-color: #f0f8ff;}#sk-container-id-1 div.sk-toggleable__content pre {margin: 0.2em;color: black;border-radius: 0.25em;background-color: #f0f8ff;}#sk-container-id-1 input.sk-toggleable__control:checked~div.sk-toggleable__content {max-height: 200px;max-width: 100%;overflow: auto;}#sk-container-id-1 input.sk-toggleable__control:checked~label.sk-toggleable__label-arrow:before {content: \"▾\";}#sk-container-id-1 div.sk-estimator input.sk-toggleable__control:checked~label.sk-toggleable__label {background-color: #d4ebff;}#sk-container-id-1 div.sk-label input.sk-toggleable__control:checked~label.sk-toggleable__label {background-color: #d4ebff;}#sk-container-id-1 input.sk-hidden--visually {border: 0;clip: rect(1px 1px 1px 1px);clip: rect(1px, 1px, 1px, 1px);height: 1px;margin: -1px;overflow: hidden;padding: 0;position: absolute;width: 1px;}#sk-container-id-1 div.sk-estimator {font-family: monospace;background-color: #f0f8ff;border: 1px dotted black;border-radius: 0.25em;box-sizing: border-box;margin-bottom: 0.5em;}#sk-container-id-1 div.sk-estimator:hover {background-color: #d4ebff;}#sk-container-id-1 div.sk-parallel-item::after {content: \"\";width: 100%;border-bottom: 1px solid gray;flex-grow: 1;}#sk-container-id-1 div.sk-label:hover label.sk-toggleable__label {background-color: #d4ebff;}#sk-container-id-1 div.sk-serial::before {content: \"\";position: absolute;border-left: 1px solid gray;box-sizing: border-box;top: 0;bottom: 0;left: 50%;z-index: 0;}#sk-container-id-1 div.sk-serial {display: flex;flex-direction: column;align-items: center;background-color: white;padding-right: 0.2em;padding-left: 0.2em;position: relative;}#sk-container-id-1 div.sk-item {position: relative;z-index: 1;}#sk-container-id-1 div.sk-parallel {display: flex;align-items: stretch;justify-content: center;background-color: white;position: relative;}#sk-container-id-1 div.sk-item::before, #sk-container-id-1 div.sk-parallel-item::before {content: \"\";position: absolute;border-left: 1px solid gray;box-sizing: border-box;top: 0;bottom: 0;left: 50%;z-index: -1;}#sk-container-id-1 div.sk-parallel-item {display: flex;flex-direction: column;z-index: 1;position: relative;background-color: white;}#sk-container-id-1 div.sk-parallel-item:first-child::after {align-self: flex-end;width: 50%;}#sk-container-id-1 div.sk-parallel-item:last-child::after {align-self: flex-start;width: 50%;}#sk-container-id-1 div.sk-parallel-item:only-child::after {width: 0;}#sk-container-id-1 div.sk-dashed-wrapped {border: 1px dashed gray;margin: 0 0.4em 0.5em 0.4em;box-sizing: border-box;padding-bottom: 0.4em;background-color: white;}#sk-container-id-1 div.sk-label label {font-family: monospace;font-weight: bold;display: inline-block;line-height: 1.2em;}#sk-container-id-1 div.sk-label-container {text-align: center;}#sk-container-id-1 div.sk-container {/* jupyter's `normalize.less` sets `[hidden] { display: none; }` but bootstrap.min.css set `[hidden] { display: none !important; }` so we also need the `!important` here to be able to override the default hidden behavior on the sphinx rendered scikit-learn.org. See: https://github.com/scikit-learn/scikit-learn/issues/21755 */display: inline-block !important;position: relative;}#sk-container-id-1 div.sk-text-repr-fallback {display: none;}</style><div id=\"sk-container-id-1\" class=\"sk-top-container\"><div class=\"sk-text-repr-fallback\"><pre>LabelEncoder()</pre><b>In a Jupyter environment, please rerun this cell to show the HTML representation or trust the notebook. <br />On GitHub, the HTML representation is unable to render, please try loading this page with nbviewer.org.</b></div><div class=\"sk-container\" hidden><div class=\"sk-item\"><div class=\"sk-estimator sk-toggleable\"><input class=\"sk-toggleable__control sk-hidden--visually\" id=\"sk-estimator-id-1\" type=\"checkbox\" checked><label for=\"sk-estimator-id-1\" class=\"sk-toggleable__label sk-toggleable__label-arrow\">LabelEncoder</label><div class=\"sk-toggleable__content\"><pre>LabelEncoder()</pre></div></div></div></div></div>"
      ],
      "text/plain": [
       "LabelEncoder()"
      ]
     },
     "execution_count": 4,
     "metadata": {},
     "output_type": "execute_result"
    }
   ],
   "source": [
    "#перекодируем user_id, чтобы они шли последовательно\n",
    "\n",
    "user_encoder = LabelEncoder()\n",
    "user_encoder.fit(events[\"user_id\"])"
   ]
  },
  {
   "cell_type": "code",
   "execution_count": 5,
   "id": "00e81183",
   "metadata": {},
   "outputs": [],
   "source": [
    "events_train[\"user_id_enc\"] = user_encoder.transform(events_train[\"user_id\"])"
   ]
  },
  {
   "cell_type": "code",
   "execution_count": 5,
   "id": "13413808",
   "metadata": {},
   "outputs": [],
   "source": [
    "del events"
   ]
  },
  {
   "cell_type": "code",
   "execution_count": 8,
   "id": "0a59ab54",
   "metadata": {},
   "outputs": [],
   "source": [
    "#перекодируем item_id, чтобы они шли последовательно\n",
    "\n",
    "item_encoder = LabelEncoder()\n",
    "item_encoder.fit(items[\"item_id\"])\n",
    "items[\"item_id_enc\"] = item_encoder.transform(items[\"item_id\"])"
   ]
  },
  {
   "cell_type": "code",
   "execution_count": 7,
   "id": "1e168b63",
   "metadata": {},
   "outputs": [],
   "source": [
    "events_train = events_train.merge(items[['item_id', 'item_id_enc']], on='item_id', how='left')"
   ]
  },
  {
   "cell_type": "code",
   "execution_count": 9,
   "id": "2e468888",
   "metadata": {},
   "outputs": [],
   "source": [
    "events_test[\"user_id_enc\"] = user_encoder.transform(events_test[\"user_id\"])\n",
    "events_test = events_test.merge(items[['item_id', 'item_id_enc']], on='item_id', how='left')"
   ]
  },
  {
   "cell_type": "code",
   "execution_count": 8,
   "id": "646348fa",
   "metadata": {},
   "outputs": [],
   "source": [
    "# создаём sparse-матрицу формата CSR вида user_id-item_id \n",
    "# 1 -- пользователь прослушал трек, 0 -- пользователь не прослушал трек\n",
    "user_item_matrix_train = scipy.sparse.csr_matrix((\n",
    "    events_train[\"listened\"],\n",
    "    (events_train['user_id_enc'], events_train['item_id_enc'])),\n",
    "    dtype=np.int8)"
   ]
  },
  {
   "cell_type": "code",
   "execution_count": null,
   "id": "a80502a8",
   "metadata": {},
   "outputs": [
    {
     "name": "stderr",
     "output_type": "stream",
     "text": [
      "100%|██████████| 50/50 [36:10<00:00, 43.40s/it]\n"
     ]
    }
   ],
   "source": [
    "# (~ 36 мин)\n",
    "als_model = AlternatingLeastSquares(factors=50, iterations=50, regularization=0.05, random_state=0)\n",
    "als_model.fit(user_item_matrix_train) "
   ]
  },
  {
   "cell_type": "markdown",
   "id": "d34bc843",
   "metadata": {},
   "source": [
    "### Рекомендации для одного пользователя -- проверка рекомендаций"
   ]
  },
  {
   "cell_type": "code",
   "execution_count": 23,
   "id": "d9c1740c",
   "metadata": {},
   "outputs": [],
   "source": [
    "def get_recommendations_als(user_item_matrix, model, user_id, user_encoder, item_encoder, include_seen=True, n=5):\n",
    "    \"\"\"\n",
    "    Возвращает отранжированные рекомендации для заданного пользователя\n",
    "    \"\"\"\n",
    "    user_id_enc = user_encoder.transform([user_id])[0]\n",
    "    recommendations = model.recommend(\n",
    "         user_id_enc, \n",
    "         user_item_matrix[user_id_enc], \n",
    "         filter_already_liked_items=not include_seen,\n",
    "         N=n)\n",
    "    recommendations = pd.DataFrame({\"item_id_enc\": recommendations[0], \"score\": recommendations[1]})\n",
    "    recommendations[\"item_id\"] = item_encoder.inverse_transform(recommendations[\"item_id_enc\"])\n",
    "    \n",
    "    return recommendations"
   ]
  },
  {
   "cell_type": "code",
   "execution_count": 25,
   "id": "aa85efd1",
   "metadata": {},
   "outputs": [
    {
     "name": "stdout",
     "output_type": "stream",
     "text": [
      "user_id: 9174\n",
      "История (последние события, recent)\n"
     ]
    },
    {
     "data": {
      "text/html": [
       "<div>\n",
       "<style scoped>\n",
       "    .dataframe tbody tr th:only-of-type {\n",
       "        vertical-align: middle;\n",
       "    }\n",
       "\n",
       "    .dataframe tbody tr th {\n",
       "        vertical-align: top;\n",
       "    }\n",
       "\n",
       "    .dataframe thead th {\n",
       "        text-align: right;\n",
       "    }\n",
       "</style>\n",
       "<table border=\"1\" class=\"dataframe\">\n",
       "  <thead>\n",
       "    <tr style=\"text-align: right;\">\n",
       "      <th></th>\n",
       "      <th>track_seq</th>\n",
       "      <th>started_at</th>\n",
       "      <th>name</th>\n",
       "      <th>artists</th>\n",
       "      <th>albums</th>\n",
       "      <th>genres</th>\n",
       "      <th>num_users</th>\n",
       "    </tr>\n",
       "  </thead>\n",
       "  <tbody>\n",
       "    <tr>\n",
       "      <th>741</th>\n",
       "      <td>742</td>\n",
       "      <td>2022-12-14</td>\n",
       "      <td>Любовь как-нибудь</td>\n",
       "      <td>[Plamenev]</td>\n",
       "      <td>[Любовь как-нибудь]</td>\n",
       "      <td>[punk]</td>\n",
       "      <td>259</td>\n",
       "    </tr>\n",
       "    <tr>\n",
       "      <th>742</th>\n",
       "      <td>743</td>\n",
       "      <td>2022-12-14</td>\n",
       "      <td>меня нет</td>\n",
       "      <td>[гречка]</td>\n",
       "      <td>[Не за что]</td>\n",
       "      <td>[local-indie, indie]</td>\n",
       "      <td>1706</td>\n",
       "    </tr>\n",
       "    <tr>\n",
       "      <th>743</th>\n",
       "      <td>744</td>\n",
       "      <td>2022-12-14</td>\n",
       "      <td>Вор и принцесса</td>\n",
       "      <td>[Fun Mode]</td>\n",
       "      <td>[Я буду здесь]</td>\n",
       "      <td>[alternative]</td>\n",
       "      <td>591</td>\n",
       "    </tr>\n",
       "    <tr>\n",
       "      <th>744</th>\n",
       "      <td>745</td>\n",
       "      <td>2022-12-14</td>\n",
       "      <td>Стены цитадели</td>\n",
       "      <td>[Fun Mode]</td>\n",
       "      <td>[Я буду здесь]</td>\n",
       "      <td>[alternative]</td>\n",
       "      <td>519</td>\n",
       "    </tr>\n",
       "    <tr>\n",
       "      <th>745</th>\n",
       "      <td>746</td>\n",
       "      <td>2022-12-15</td>\n",
       "      <td>Тёмные земли</td>\n",
       "      <td>[Fun Mode]</td>\n",
       "      <td>[Я буду здесь]</td>\n",
       "      <td>[alternative]</td>\n",
       "      <td>165</td>\n",
       "    </tr>\n",
       "    <tr>\n",
       "      <th>746</th>\n",
       "      <td>747</td>\n",
       "      <td>2022-12-15</td>\n",
       "      <td>Воргены</td>\n",
       "      <td>[Fun Mode]</td>\n",
       "      <td>[Я буду здесь]</td>\n",
       "      <td>[alternative]</td>\n",
       "      <td>582</td>\n",
       "    </tr>\n",
       "    <tr>\n",
       "      <th>747</th>\n",
       "      <td>748</td>\n",
       "      <td>2022-12-15</td>\n",
       "      <td>Варвар</td>\n",
       "      <td>[Fun Mode]</td>\n",
       "      <td>[Я буду здесь]</td>\n",
       "      <td>[alternative]</td>\n",
       "      <td>1010</td>\n",
       "    </tr>\n",
       "    <tr>\n",
       "      <th>748</th>\n",
       "      <td>749</td>\n",
       "      <td>2022-12-15</td>\n",
       "      <td>Слабость</td>\n",
       "      <td>[RasKar]</td>\n",
       "      <td>[Разгар]</td>\n",
       "      <td>[alternative]</td>\n",
       "      <td>6</td>\n",
       "    </tr>\n",
       "    <tr>\n",
       "      <th>749</th>\n",
       "      <td>750</td>\n",
       "      <td>2022-12-15</td>\n",
       "      <td>Среди акул</td>\n",
       "      <td>[Мураками]</td>\n",
       "      <td>[Среди акул]</td>\n",
       "      <td>[rusrock, allrock]</td>\n",
       "      <td>1764</td>\n",
       "    </tr>\n",
       "    <tr>\n",
       "      <th>750</th>\n",
       "      <td>751</td>\n",
       "      <td>2022-12-15</td>\n",
       "      <td>Бездельник</td>\n",
       "      <td>[КИНО]</td>\n",
       "      <td>[Кино в Севкабеле]</td>\n",
       "      <td>[rusrock, allrock]</td>\n",
       "      <td>1982</td>\n",
       "    </tr>\n",
       "  </tbody>\n",
       "</table>\n",
       "</div>"
      ],
      "text/plain": [
       "     track_seq started_at               name     artists               albums  \\\n",
       "741        742 2022-12-14  Любовь как-нибудь  [Plamenev]  [Любовь как-нибудь]   \n",
       "742        743 2022-12-14           меня нет    [гречка]          [Не за что]   \n",
       "743        744 2022-12-14    Вор и принцесса  [Fun Mode]       [Я буду здесь]   \n",
       "744        745 2022-12-14     Стены цитадели  [Fun Mode]       [Я буду здесь]   \n",
       "745        746 2022-12-15       Тёмные земли  [Fun Mode]       [Я буду здесь]   \n",
       "746        747 2022-12-15            Воргены  [Fun Mode]       [Я буду здесь]   \n",
       "747        748 2022-12-15             Варвар  [Fun Mode]       [Я буду здесь]   \n",
       "748        749 2022-12-15           Слабость    [RasKar]             [Разгар]   \n",
       "749        750 2022-12-15         Среди акул  [Мураками]         [Среди акул]   \n",
       "750        751 2022-12-15         Бездельник      [КИНО]   [Кино в Севкабеле]   \n",
       "\n",
       "                   genres  num_users  \n",
       "741                [punk]        259  \n",
       "742  [local-indie, indie]       1706  \n",
       "743         [alternative]        591  \n",
       "744         [alternative]        519  \n",
       "745         [alternative]        165  \n",
       "746         [alternative]        582  \n",
       "747         [alternative]       1010  \n",
       "748         [alternative]          6  \n",
       "749    [rusrock, allrock]       1764  \n",
       "750    [rusrock, allrock]       1982  "
      ]
     },
     "metadata": {},
     "output_type": "display_data"
    },
    {
     "name": "stdout",
     "output_type": "stream",
     "text": [
      "Персональные рекомендации:\n"
     ]
    },
    {
     "data": {
      "text/html": [
       "<div>\n",
       "<style scoped>\n",
       "    .dataframe tbody tr th:only-of-type {\n",
       "        vertical-align: middle;\n",
       "    }\n",
       "\n",
       "    .dataframe tbody tr th {\n",
       "        vertical-align: top;\n",
       "    }\n",
       "\n",
       "    .dataframe thead th {\n",
       "        text-align: right;\n",
       "    }\n",
       "</style>\n",
       "<table border=\"1\" class=\"dataframe\">\n",
       "  <thead>\n",
       "    <tr style=\"text-align: right;\">\n",
       "      <th></th>\n",
       "      <th>name</th>\n",
       "      <th>artists</th>\n",
       "      <th>albums</th>\n",
       "      <th>genres</th>\n",
       "      <th>score</th>\n",
       "      <th>num_users</th>\n",
       "    </tr>\n",
       "  </thead>\n",
       "  <tbody>\n",
       "    <tr>\n",
       "      <th>0</th>\n",
       "      <td>Прости. Прощай. Привет</td>\n",
       "      <td>[Порнофильмы]</td>\n",
       "      <td>[Как в последний раз]</td>\n",
       "      <td>[punk]</td>\n",
       "      <td>0.673348</td>\n",
       "      <td>27162</td>\n",
       "    </tr>\n",
       "    <tr>\n",
       "      <th>1</th>\n",
       "      <td>Я так соскучился</td>\n",
       "      <td>[Порнофильмы]</td>\n",
       "      <td>[В диапазоне между отчаянием и надеждой, Панки...</td>\n",
       "      <td>[punk]</td>\n",
       "      <td>0.597494</td>\n",
       "      <td>57911</td>\n",
       "    </tr>\n",
       "    <tr>\n",
       "      <th>2</th>\n",
       "      <td>You're Gonna Go Far, Kid</td>\n",
       "      <td>[The Offspring]</td>\n",
       "      <td>[Pop Goes Punk, Rock Workout 2022, 2000's Rock...</td>\n",
       "      <td>[punk]</td>\n",
       "      <td>0.527496</td>\n",
       "      <td>49247</td>\n",
       "    </tr>\n",
       "    <tr>\n",
       "      <th>3</th>\n",
       "      <td>Песенка прокрастинатора</td>\n",
       "      <td>[нежность на бумаге]</td>\n",
       "      <td>[Рассветы у окна]</td>\n",
       "      <td>[local-indie, indie]</td>\n",
       "      <td>0.517433</td>\n",
       "      <td>19554</td>\n",
       "    </tr>\n",
       "    <tr>\n",
       "      <th>4</th>\n",
       "      <td>Spirits</td>\n",
       "      <td>[The Strumbellas]</td>\n",
       "      <td>[Spirits, Hope]</td>\n",
       "      <td>[folkrock, allrock]</td>\n",
       "      <td>0.474390</td>\n",
       "      <td>41872</td>\n",
       "    </tr>\n",
       "  </tbody>\n",
       "</table>\n",
       "</div>"
      ],
      "text/plain": [
       "                       name               artists  \\\n",
       "0    Прости. Прощай. Привет         [Порнофильмы]   \n",
       "1          Я так соскучился         [Порнофильмы]   \n",
       "2  You're Gonna Go Far, Kid       [The Offspring]   \n",
       "3   Песенка прокрастинатора  [нежность на бумаге]   \n",
       "4                   Spirits     [The Strumbellas]   \n",
       "\n",
       "                                              albums                genres  \\\n",
       "0                              [Как в последний раз]                [punk]   \n",
       "1  [В диапазоне между отчаянием и надеждой, Панки...                [punk]   \n",
       "2  [Pop Goes Punk, Rock Workout 2022, 2000's Rock...                [punk]   \n",
       "3                                  [Рассветы у окна]  [local-indie, indie]   \n",
       "4                                    [Spirits, Hope]   [folkrock, allrock]   \n",
       "\n",
       "      score  num_users  \n",
       "0  0.673348      27162  \n",
       "1  0.597494      57911  \n",
       "2  0.527496      49247  \n",
       "3  0.517433      19554  \n",
       "4  0.474390      41872  "
      ]
     },
     "metadata": {},
     "output_type": "display_data"
    }
   ],
   "source": [
    "user_id = events_test['user_id'].sample().iat[0]\n",
    "\n",
    "print(f\"user_id: {user_id}\")\n",
    "\n",
    "print(\"История (последние события, recent)\")\n",
    "user_history = (\n",
    "    events_train[events_train['user_id']==user_id]\n",
    "    .merge(items.set_index(\"item_id\")[[\"name\", \"artists\", \"albums\", \"genres\", 'num_users']], on=\"item_id\")\n",
    ")\n",
    "user_history_to_print = user_history[[\"track_seq\", \"started_at\", \"name\", \"artists\", \"albums\", \"genres\", \"num_users\"]].tail(10)\n",
    "display(user_history_to_print)\n",
    "\n",
    "\n",
    "print(\"Персональные рекомендации:\")\n",
    "recomnedation = get_recommendations_als(user_item_matrix_train, als_model, user_id, user_encoder, item_encoder)\n",
    "recomnedation = recomnedation.merge(items.set_index(\"item_id\")[[\"name\", \"artists\", \"albums\", \"genres\", \"num_users\"]], on='item_id', how='left')\n",
    "recomnedation_to_print = recomnedation[[\"name\", \"artists\", \"albums\", \"genres\", \"score\", \"num_users\"]]\n",
    "display(recomnedation_to_print)\n"
   ]
  },
  {
   "cell_type": "markdown",
   "id": "531921cd",
   "metadata": {},
   "source": [
    "### Конец рекомендаций для одного пользователя"
   ]
  },
  {
   "cell_type": "code",
   "execution_count": null,
   "id": "800b6b8a",
   "metadata": {},
   "outputs": [],
   "source": [
    "users_train = events_train[\"user_id_enc\"].drop_duplicates()\n",
    "users_test = events_test[\"user_id_enc\"].drop_duplicates()\n",
    "common_users = events_test[events_test[\"user_id_enc\"].isin(users_train)][\"user_id_enc\"].drop_duplicates()\n",
    "\n",
    "user_for_rec= common_users.to_list()"
   ]
  },
  {
   "cell_type": "code",
   "execution_count": null,
   "id": "afbdf433",
   "metadata": {},
   "outputs": [],
   "source": [
    "# получаем персональные рекомендации, для экономии ресурсов возьмем только пользователей, которые есть и в events_train и events_test (common_users)\n",
    "#(~ 36 мин)\n",
    "\n",
    "als_recommendations = als_model.recommend(\n",
    "    user_for_rec, \n",
    "    user_item_matrix_train[user_for_rec], \n",
    "    filter_already_liked_items=False, N=10)"
   ]
  },
  {
   "cell_type": "code",
   "execution_count": 51,
   "id": "5d626c6b",
   "metadata": {},
   "outputs": [],
   "source": [
    "# преобразуем полученные рекомендации в табличный формат\n",
    "item_ids_enc = als_recommendations[0]\n",
    "als_scores = als_recommendations[1]\n",
    "\n",
    "personal_als = pd.DataFrame({\n",
    "    \"user_id_enc\": user_for_rec,\n",
    "    \"item_id_enc\": item_ids_enc.tolist(), \n",
    "    \"score\": als_scores.tolist()})\n",
    "personal_als = personal_als.explode([\"item_id_enc\", \"score\"], ignore_index=True)\n",
    "\n",
    "personal_als[\"item_id_enc\"] = personal_als[\"item_id_enc\"].astype(\"int\")\n",
    "personal_als[\"score\"] = personal_als[\"score\"].astype(\"float\")\n",
    "\n",
    "personal_als[\"user_id\"] = user_encoder.inverse_transform(personal_als[\"user_id_enc\"])\n",
    "personal_als[\"item_id\"] = item_encoder.inverse_transform(personal_als[\"item_id_enc\"])\n",
    "personal_als = personal_als.drop(columns=[\"user_id_enc\", \"item_id_enc\"])\n",
    "personal_als=personal_als[['user_id', 'item_id', 'score']]"
   ]
  },
  {
   "cell_type": "code",
   "execution_count": 52,
   "id": "e49f546f",
   "metadata": {},
   "outputs": [
    {
     "data": {
      "text/html": [
       "<div>\n",
       "<style scoped>\n",
       "    .dataframe tbody tr th:only-of-type {\n",
       "        vertical-align: middle;\n",
       "    }\n",
       "\n",
       "    .dataframe tbody tr th {\n",
       "        vertical-align: top;\n",
       "    }\n",
       "\n",
       "    .dataframe thead th {\n",
       "        text-align: right;\n",
       "    }\n",
       "</style>\n",
       "<table border=\"1\" class=\"dataframe\">\n",
       "  <thead>\n",
       "    <tr style=\"text-align: right;\">\n",
       "      <th></th>\n",
       "      <th>user_id</th>\n",
       "      <th>item_id</th>\n",
       "      <th>score</th>\n",
       "    </tr>\n",
       "  </thead>\n",
       "  <tbody>\n",
       "    <tr>\n",
       "      <th>0</th>\n",
       "      <td>3</td>\n",
       "      <td>35505245</td>\n",
       "      <td>0.426677</td>\n",
       "    </tr>\n",
       "    <tr>\n",
       "      <th>1</th>\n",
       "      <td>3</td>\n",
       "      <td>45499814</td>\n",
       "      <td>0.321614</td>\n",
       "    </tr>\n",
       "    <tr>\n",
       "      <th>2</th>\n",
       "      <td>3</td>\n",
       "      <td>33311009</td>\n",
       "      <td>0.297880</td>\n",
       "    </tr>\n",
       "    <tr>\n",
       "      <th>3</th>\n",
       "      <td>3</td>\n",
       "      <td>49961817</td>\n",
       "      <td>0.288920</td>\n",
       "    </tr>\n",
       "    <tr>\n",
       "      <th>4</th>\n",
       "      <td>3</td>\n",
       "      <td>54798445</td>\n",
       "      <td>0.265733</td>\n",
       "    </tr>\n",
       "    <tr>\n",
       "      <th>...</th>\n",
       "      <td>...</td>\n",
       "      <td>...</td>\n",
       "      <td>...</td>\n",
       "    </tr>\n",
       "    <tr>\n",
       "      <th>7528695</th>\n",
       "      <td>1374582</td>\n",
       "      <td>83063895</td>\n",
       "      <td>0.210580</td>\n",
       "    </tr>\n",
       "    <tr>\n",
       "      <th>7528696</th>\n",
       "      <td>1374582</td>\n",
       "      <td>69459326</td>\n",
       "      <td>0.206378</td>\n",
       "    </tr>\n",
       "    <tr>\n",
       "      <th>7528697</th>\n",
       "      <td>1374582</td>\n",
       "      <td>67538121</td>\n",
       "      <td>0.199272</td>\n",
       "    </tr>\n",
       "    <tr>\n",
       "      <th>7528698</th>\n",
       "      <td>1374582</td>\n",
       "      <td>62352385</td>\n",
       "      <td>0.179136</td>\n",
       "    </tr>\n",
       "    <tr>\n",
       "      <th>7528699</th>\n",
       "      <td>1374582</td>\n",
       "      <td>39946957</td>\n",
       "      <td>0.178328</td>\n",
       "    </tr>\n",
       "  </tbody>\n",
       "</table>\n",
       "<p>7528700 rows × 3 columns</p>\n",
       "</div>"
      ],
      "text/plain": [
       "         user_id   item_id     score\n",
       "0              3  35505245  0.426677\n",
       "1              3  45499814  0.321614\n",
       "2              3  33311009  0.297880\n",
       "3              3  49961817  0.288920\n",
       "4              3  54798445  0.265733\n",
       "...          ...       ...       ...\n",
       "7528695  1374582  83063895  0.210580\n",
       "7528696  1374582  69459326  0.206378\n",
       "7528697  1374582  67538121  0.199272\n",
       "7528698  1374582  62352385  0.179136\n",
       "7528699  1374582  39946957  0.178328\n",
       "\n",
       "[7528700 rows x 3 columns]"
      ]
     },
     "execution_count": 52,
     "metadata": {},
     "output_type": "execute_result"
    }
   ],
   "source": [
    "personal_als"
   ]
  },
  {
   "cell_type": "code",
   "execution_count": 53,
   "id": "ed08b259",
   "metadata": {},
   "outputs": [],
   "source": [
    "personal_als.to_parquet(\"recomendation/personal_als.parquet\")"
   ]
  },
  {
   "cell_type": "code",
   "execution_count": 5,
   "id": "cdd09730",
   "metadata": {},
   "outputs": [
    {
     "data": {
      "text/plain": [
       "['model/als_model.joblib']"
      ]
     },
     "execution_count": 5,
     "metadata": {},
     "output_type": "execute_result"
    }
   ],
   "source": [
    "#als_model = load('model/als_model.joblib')\n",
    "\n",
    "dump(als_model, 'model/als_model.joblib', compress=9)\n"
   ]
  },
  {
   "cell_type": "markdown",
   "id": "5f09dc7e-7c91-4355-860a-b9cfb9f33f15",
   "metadata": {},
   "source": [
    "# Похожие"
   ]
  },
  {
   "cell_type": "markdown",
   "id": "1dfcb683-b440-40a8-9975-894156a53872",
   "metadata": {},
   "source": [
    "Рассчитаем похожие, они позже пригодятся для онлайн-рекомендаций."
   ]
  },
  {
   "cell_type": "code",
   "execution_count": 2,
   "id": "607ce757",
   "metadata": {},
   "outputs": [],
   "source": [
    "als_model = load('model/als_model.joblib')"
   ]
  },
  {
   "cell_type": "code",
   "execution_count": 4,
   "id": "e478a777",
   "metadata": {},
   "outputs": [],
   "source": [
    "events_train = pd.read_parquet(\"tmp/events_train.parquet\")"
   ]
  },
  {
   "cell_type": "code",
   "execution_count": 3,
   "id": "d5cb7b65",
   "metadata": {},
   "outputs": [],
   "source": [
    "genres = pd.read_parquet(\"data_artifacts/genres_by_users.parquet\")\n",
    "items = pd.read_parquet(\"data_artifacts/items.parquet\")\n",
    "common_users= pd.read_parquet(\"tmp/common_users.parquet\")"
   ]
  },
  {
   "cell_type": "code",
   "execution_count": null,
   "id": "925e82ae",
   "metadata": {},
   "outputs": [
    {
     "name": "stdout",
     "output_type": "stream",
     "text": [
      "(173, 3)\n",
      "(1000000, 7)\n",
      "(752870, 1)\n",
      "(208731252, 6)\n",
      "<implicit.cpu.als.AlternatingLeastSquares object at 0x00000217BC8F3380>\n"
     ]
    }
   ],
   "source": [
    "#genres: (173, 3)\n",
    "#items: (1000000, 7)\n",
    "#common_users: (752870, 1)\n",
    "#events_train: (208731252, 6)\n",
    "\n",
    "print(genres.shape)\n",
    "print(items.shape)\n",
    "print(common_users.shape)\n",
    "print(events_train.shape)\n",
    "print(als_model)"
   ]
  },
  {
   "cell_type": "code",
   "execution_count": 6,
   "id": "1ed3a523",
   "metadata": {},
   "outputs": [],
   "source": [
    "scaler = MinMaxScaler()\n",
    "genres[[\"score\"]] = scaler.fit_transform(genres[[\"num_users\"]])\n",
    "\n",
    "genre_encoder = LabelEncoder()\n",
    "genre_encoder.fit(genres[\"genre_id\"])\n",
    "genres[\"genre_id_enc\"] = genre_encoder.transform(genres[\"genre_id\"])\n",
    "genres = genres.sort_values(by=\"genre_id_enc\")\n",
    "\n"
   ]
  },
  {
   "cell_type": "code",
   "execution_count": 7,
   "id": "7961020b",
   "metadata": {},
   "outputs": [],
   "source": [
    "item_encoder = LabelEncoder()\n",
    "item_encoder.fit(items[\"item_id\"])\n",
    "items[\"item_id_enc\"] = item_encoder.transform(items[\"item_id\"])\n",
    "items = items.sort_values(by=\"item_id_enc\")"
   ]
  },
  {
   "cell_type": "code",
   "execution_count": 8,
   "id": "ce370904-4c49-4152-8706-416074ea9b9a",
   "metadata": {},
   "outputs": [],
   "source": [
    "def get_item2genre_matrix(genres, items):\n",
    "\n",
    "    #составляем матрицу items-genres: 1 - у трека есть такой жанр, 0 - у трека нет такого жанра.\n",
    "\n",
    "    genre_names_to_id = genres.reset_index().set_index(\"name\")[\"genre_id_enc\"].to_dict()\n",
    "       \n",
    "    genres_csr_data = []\n",
    "    genres_csr_row_idx = []\n",
    "    genres_csr_col_idx = []\n",
    "    \n",
    "    for item_idx, (k, v) in enumerate(items.iterrows()):\n",
    "           \n",
    "        if v[\"genres\"] is None:\n",
    "            continue\n",
    "        for genre_name in v[\"genres\"]:\n",
    "            \n",
    "            genre_idx = genre_names_to_id[genre_name]\n",
    "            genres_csr_data.append(int(1))\n",
    "            genres_csr_row_idx.append(item_idx)\n",
    "            genres_csr_col_idx.append(genre_idx)\n",
    "     \n",
    "\n",
    "    genres_csr = scipy.sparse.csr_matrix((genres_csr_data, (genres_csr_row_idx, genres_csr_col_idx)), shape=(len(items), len(genres)) )\n",
    "    genres_csr = sklearn.preprocessing.normalize(genres_csr, norm='l1', axis=1)\n",
    "    \n",
    "    return genres_csr\n",
    "    "
   ]
  },
  {
   "cell_type": "code",
   "execution_count": 9,
   "id": "e1bdc51f",
   "metadata": {},
   "outputs": [],
   "source": [
    "all_items_genres_csr = get_item2genre_matrix(genres, items)"
   ]
  },
  {
   "cell_type": "markdown",
   "id": "1bd35bda",
   "metadata": {},
   "source": [
    "#### Рекомендации для одного пользователя -- проверка -- сравнение косинусного сходства и евклидового расстояния"
   ]
  },
  {
   "cell_type": "code",
   "execution_count": 47,
   "id": "90e2e4bb",
   "metadata": {},
   "outputs": [],
   "source": [
    "def get_content_recomendation(user_id, events_train, items, all_items_genres_csr, top_k=5):\n",
    "\n",
    "    user_events = events_train.query(\"user_id == @user_id\")[[\"item_id\", \"listened\"]]\n",
    "    user_items = items[items[\"item_id\"].isin(user_events[\"item_id\"])]\n",
    "\n",
    "    user_items_genres_csr = get_item2genre_matrix(genres, user_items)\n",
    "    \n",
    "    user_ratings = user_events[\"listened\"].to_numpy()\n",
    "    user_ratings = np.expand_dims(user_ratings, axis=1)\n",
    "\n",
    "    user_items_genres_weighted = user_items_genres_csr.multiply(user_ratings)\n",
    "    user_genres_scores = np.asarray(user_items_genres_weighted.mean(axis=0))\n",
    "\n",
    "    user_genres = genres.copy()\n",
    "    user_genres[\"score\"] = np.ravel(user_genres_scores)\n",
    "    user_genres = user_genres[user_genres[\"score\"] > 0].sort_values(by=[\"score\"], ascending=False)\n",
    "\n",
    "\n",
    "\n",
    "    print(f\"user_id: {user_id}\")\n",
    "    print(\"История (последние события, recent)\")\n",
    "    user_history = (events_train.query(\"user_id == @user_id\")\n",
    "                    .merge(items.set_index(\"item_id\")[[\"name\", \"albums\", \"artists\", \"genres\", 'num_users']], on=\"item_id\"))\n",
    "    \n",
    "    user_history_to_print = user_history[[\"name\", \"albums\", \"artists\", \"genres\", \"num_users\", \"started_at\"]].tail(5)\n",
    "    display(user_history_to_print)\n",
    "\n",
    "\n",
    "    print(f'Топ {top_k} популярных жанров для user_id = {user_id}')\n",
    "    display(user_genres.head(top_k))\n",
    "\n",
    "    similarity_scores_cos = cosine_similarity(all_items_genres_csr, user_genres_scores)\n",
    "    similarity_scores_euc = euclidean_distances(all_items_genres_csr, user_genres_scores)\n",
    "\n",
    "    similarity_scores_cos = similarity_scores_cos.flatten()\n",
    "    similarity_scores_euc = similarity_scores_euc.flatten()\n",
    "\n",
    "    top_k_indices_cos = np.argsort(similarity_scores_cos)[:top_k]\n",
    "    top_k_indices_euc = np.argsort(similarity_scores_euc)[:top_k]\n",
    "    ans_cos = items[['item_id', 'name' ,'albums', 'artists', 'genres', 'num_users']].iloc[top_k_indices_cos.tolist()]\n",
    "    ans_euc = items[['item_id', 'name' ,'albums', 'artists', 'genres', 'num_users']].iloc[top_k_indices_euc.tolist()]\n",
    "\n",
    "    print(f'Топ {top_k} похожих треков для user_id = {user_id} (косинусное сходство)')\n",
    "    display(ans_cos)\n",
    "\n",
    "    print(f'Топ {top_k} похожих треков для user_id = {user_id} (евклидово расстояние)')\n",
    "    display(ans_euc)\n",
    "\n"
   ]
  },
  {
   "cell_type": "code",
   "execution_count": 48,
   "id": "15d1ef69",
   "metadata": {},
   "outputs": [
    {
     "name": "stdout",
     "output_type": "stream",
     "text": [
      "user_id: 5\n",
      "История (последние события, recent)\n"
     ]
    },
    {
     "data": {
      "text/html": [
       "<div>\n",
       "<style scoped>\n",
       "    .dataframe tbody tr th:only-of-type {\n",
       "        vertical-align: middle;\n",
       "    }\n",
       "\n",
       "    .dataframe tbody tr th {\n",
       "        vertical-align: top;\n",
       "    }\n",
       "\n",
       "    .dataframe thead th {\n",
       "        text-align: right;\n",
       "    }\n",
       "</style>\n",
       "<table border=\"1\" class=\"dataframe\">\n",
       "  <thead>\n",
       "    <tr style=\"text-align: right;\">\n",
       "      <th></th>\n",
       "      <th>name</th>\n",
       "      <th>albums</th>\n",
       "      <th>artists</th>\n",
       "      <th>genres</th>\n",
       "      <th>num_users</th>\n",
       "      <th>started_at</th>\n",
       "    </tr>\n",
       "  </thead>\n",
       "  <tbody>\n",
       "    <tr>\n",
       "      <th>67</th>\n",
       "      <td>Любовь</td>\n",
       "      <td>[Вера, надежда, любовь]</td>\n",
       "      <td>[Кукрыниксы]</td>\n",
       "      <td>[rusrock, allrock]</td>\n",
       "      <td>2736</td>\n",
       "      <td>2022-11-27</td>\n",
       "    </tr>\n",
       "    <tr>\n",
       "      <th>68</th>\n",
       "      <td>Шалавы</td>\n",
       "      <td>[Шалавы, Песни нашего двора, Аккорды души, Про...</td>\n",
       "      <td>[Андрей Алексин]</td>\n",
       "      <td>[rusrock, allrock]</td>\n",
       "      <td>12617</td>\n",
       "      <td>2022-11-28</td>\n",
       "    </tr>\n",
       "    <tr>\n",
       "      <th>69</th>\n",
       "      <td>Вахтёрам</td>\n",
       "      <td>[Family бізнес]</td>\n",
       "      <td>[Бумбокс]</td>\n",
       "      <td>[allrock, ukrrock]</td>\n",
       "      <td>51640</td>\n",
       "      <td>2022-12-06</td>\n",
       "    </tr>\n",
       "    <tr>\n",
       "      <th>70</th>\n",
       "      <td>Believer</td>\n",
       "      <td>[Sunbathing Soundtrack, Feel Good Mornings, Oh...</td>\n",
       "      <td>[Imagine Dragons]</td>\n",
       "      <td>[allrock, rock]</td>\n",
       "      <td>106921</td>\n",
       "      <td>2022-12-07</td>\n",
       "    </tr>\n",
       "    <tr>\n",
       "      <th>71</th>\n",
       "      <td>Серо-жёлтая весна</td>\n",
       "      <td>[Как правило – без правил!]</td>\n",
       "      <td>[Александр Пушной]</td>\n",
       "      <td>[rusrock, allrock]</td>\n",
       "      <td>4766</td>\n",
       "      <td>2022-12-15</td>\n",
       "    </tr>\n",
       "  </tbody>\n",
       "</table>\n",
       "</div>"
      ],
      "text/plain": [
       "                 name                                             albums  \\\n",
       "67             Любовь                            [Вера, надежда, любовь]   \n",
       "68             Шалавы  [Шалавы, Песни нашего двора, Аккорды души, Про...   \n",
       "69           Вахтёрам                                    [Family бізнес]   \n",
       "70           Believer  [Sunbathing Soundtrack, Feel Good Mornings, Oh...   \n",
       "71  Серо-жёлтая весна                        [Как правило – без правил!]   \n",
       "\n",
       "               artists              genres  num_users started_at  \n",
       "67        [Кукрыниксы]  [rusrock, allrock]       2736 2022-11-27  \n",
       "68    [Андрей Алексин]  [rusrock, allrock]      12617 2022-11-28  \n",
       "69           [Бумбокс]  [allrock, ukrrock]      51640 2022-12-06  \n",
       "70   [Imagine Dragons]     [allrock, rock]     106921 2022-12-07  \n",
       "71  [Александр Пушной]  [rusrock, allrock]       4766 2022-12-15  "
      ]
     },
     "metadata": {},
     "output_type": "display_data"
    },
    {
     "name": "stdout",
     "output_type": "stream",
     "text": [
      "Топ 5 популярных жанров для user_id = 5\n"
     ]
    },
    {
     "data": {
      "text/html": [
       "<div>\n",
       "<style scoped>\n",
       "    .dataframe tbody tr th:only-of-type {\n",
       "        vertical-align: middle;\n",
       "    }\n",
       "\n",
       "    .dataframe tbody tr th {\n",
       "        vertical-align: top;\n",
       "    }\n",
       "\n",
       "    .dataframe thead th {\n",
       "        text-align: right;\n",
       "    }\n",
       "</style>\n",
       "<table border=\"1\" class=\"dataframe\">\n",
       "  <thead>\n",
       "    <tr style=\"text-align: right;\">\n",
       "      <th></th>\n",
       "      <th>genre_id</th>\n",
       "      <th>num_users</th>\n",
       "      <th>name</th>\n",
       "      <th>score</th>\n",
       "      <th>genre_id_enc</th>\n",
       "    </tr>\n",
       "  </thead>\n",
       "  <tbody>\n",
       "    <tr>\n",
       "      <th>3</th>\n",
       "      <td>102</td>\n",
       "      <td>31092013</td>\n",
       "      <td>allrock</td>\n",
       "      <td>0.436343</td>\n",
       "      <td>95</td>\n",
       "    </tr>\n",
       "    <tr>\n",
       "      <th>88</th>\n",
       "      <td>2</td>\n",
       "      <td>13166147</td>\n",
       "      <td>rusrock</td>\n",
       "      <td>0.215278</td>\n",
       "      <td>1</td>\n",
       "    </tr>\n",
       "    <tr>\n",
       "      <th>4</th>\n",
       "      <td>14</td>\n",
       "      <td>12772644</td>\n",
       "      <td>rock</td>\n",
       "      <td>0.186343</td>\n",
       "      <td>13</td>\n",
       "    </tr>\n",
       "    <tr>\n",
       "      <th>8</th>\n",
       "      <td>13</td>\n",
       "      <td>10111562</td>\n",
       "      <td>alternative</td>\n",
       "      <td>0.041667</td>\n",
       "      <td>12</td>\n",
       "    </tr>\n",
       "    <tr>\n",
       "      <th>0</th>\n",
       "      <td>11</td>\n",
       "      <td>55578312</td>\n",
       "      <td>pop</td>\n",
       "      <td>0.032407</td>\n",
       "      <td>10</td>\n",
       "    </tr>\n",
       "  </tbody>\n",
       "</table>\n",
       "</div>"
      ],
      "text/plain": [
       "    genre_id  num_users         name     score  genre_id_enc\n",
       "3        102   31092013      allrock  0.436343            95\n",
       "88         2   13166147      rusrock  0.215278             1\n",
       "4         14   12772644         rock  0.186343            13\n",
       "8         13   10111562  alternative  0.041667            12\n",
       "0         11   55578312          pop  0.032407            10"
      ]
     },
     "metadata": {},
     "output_type": "display_data"
    },
    {
     "name": "stdout",
     "output_type": "stream",
     "text": [
      "Топ 5 похожих треков для user_id = 5 (косинусное сходство)\n"
     ]
    },
    {
     "data": {
      "text/html": [
       "<div>\n",
       "<style scoped>\n",
       "    .dataframe tbody tr th:only-of-type {\n",
       "        vertical-align: middle;\n",
       "    }\n",
       "\n",
       "    .dataframe tbody tr th {\n",
       "        vertical-align: top;\n",
       "    }\n",
       "\n",
       "    .dataframe thead th {\n",
       "        text-align: right;\n",
       "    }\n",
       "</style>\n",
       "<table border=\"1\" class=\"dataframe\">\n",
       "  <thead>\n",
       "    <tr style=\"text-align: right;\">\n",
       "      <th></th>\n",
       "      <th>item_id</th>\n",
       "      <th>name</th>\n",
       "      <th>albums</th>\n",
       "      <th>artists</th>\n",
       "      <th>genres</th>\n",
       "      <th>num_users</th>\n",
       "    </tr>\n",
       "  </thead>\n",
       "  <tbody>\n",
       "    <tr>\n",
       "      <th>755953</th>\n",
       "      <td>57705810</td>\n",
       "      <td>Честь</td>\n",
       "      <td>[Вайнахская музыка]</td>\n",
       "      <td>[Ризавди Исмаилов]</td>\n",
       "      <td>[caucasian, folk]</td>\n",
       "      <td>108</td>\n",
       "    </tr>\n",
       "    <tr>\n",
       "      <th>51</th>\n",
       "      <td>559</td>\n",
       "      <td>Mare</td>\n",
       "      <td>[THE E.N.D. (THE ENERGY NEVER DIES)]</td>\n",
       "      <td>[Black Eyed Peas]</td>\n",
       "      <td>[electronics]</td>\n",
       "      <td>23</td>\n",
       "    </tr>\n",
       "    <tr>\n",
       "      <th>59</th>\n",
       "      <td>594</td>\n",
       "      <td>Peace Piece</td>\n",
       "      <td>[Jazz Legends, Everybody Digs Bill Evans, Jazz...</td>\n",
       "      <td>[Bill Evans]</td>\n",
       "      <td>[jazz, other_genre_162]</td>\n",
       "      <td>8</td>\n",
       "    </tr>\n",
       "    <tr>\n",
       "      <th>60</th>\n",
       "      <td>599</td>\n",
       "      <td>Time Remembered</td>\n",
       "      <td>[The Definitive Bill Evans on Riverside and Fa...</td>\n",
       "      <td>[Bill Evans, Zoot Sims, Jim Hall, Ron Carter, ...</td>\n",
       "      <td>[jazz]</td>\n",
       "      <td>6</td>\n",
       "    </tr>\n",
       "    <tr>\n",
       "      <th>63</th>\n",
       "      <td>649</td>\n",
       "      <td>To The Dregs</td>\n",
       "      <td>[Wavvves]</td>\n",
       "      <td>[Wavves]</td>\n",
       "      <td>[indie]</td>\n",
       "      <td>5</td>\n",
       "    </tr>\n",
       "  </tbody>\n",
       "</table>\n",
       "</div>"
      ],
      "text/plain": [
       "         item_id             name  \\\n",
       "755953  57705810            Честь   \n",
       "51           559             Mare   \n",
       "59           594      Peace Piece   \n",
       "60           599  Time Remembered   \n",
       "63           649     To The Dregs   \n",
       "\n",
       "                                                   albums  \\\n",
       "755953                                [Вайнахская музыка]   \n",
       "51                   [THE E.N.D. (THE ENERGY NEVER DIES)]   \n",
       "59      [Jazz Legends, Everybody Digs Bill Evans, Jazz...   \n",
       "60      [The Definitive Bill Evans on Riverside and Fa...   \n",
       "63                                              [Wavvves]   \n",
       "\n",
       "                                                  artists  \\\n",
       "755953                                 [Ризавди Исмаилов]   \n",
       "51                                      [Black Eyed Peas]   \n",
       "59                                           [Bill Evans]   \n",
       "60      [Bill Evans, Zoot Sims, Jim Hall, Ron Carter, ...   \n",
       "63                                               [Wavves]   \n",
       "\n",
       "                         genres  num_users  \n",
       "755953        [caucasian, folk]        108  \n",
       "51                [electronics]         23  \n",
       "59      [jazz, other_genre_162]          8  \n",
       "60                       [jazz]          6  \n",
       "63                      [indie]          5  "
      ]
     },
     "metadata": {},
     "output_type": "display_data"
    },
    {
     "name": "stdout",
     "output_type": "stream",
     "text": [
      "Топ 5 похожих треков для user_id = 5 (евклидово расстояние)\n"
     ]
    },
    {
     "data": {
      "text/html": [
       "<div>\n",
       "<style scoped>\n",
       "    .dataframe tbody tr th:only-of-type {\n",
       "        vertical-align: middle;\n",
       "    }\n",
       "\n",
       "    .dataframe tbody tr th {\n",
       "        vertical-align: top;\n",
       "    }\n",
       "\n",
       "    .dataframe thead th {\n",
       "        text-align: right;\n",
       "    }\n",
       "</style>\n",
       "<table border=\"1\" class=\"dataframe\">\n",
       "  <thead>\n",
       "    <tr style=\"text-align: right;\">\n",
       "      <th></th>\n",
       "      <th>item_id</th>\n",
       "      <th>name</th>\n",
       "      <th>albums</th>\n",
       "      <th>artists</th>\n",
       "      <th>genres</th>\n",
       "      <th>num_users</th>\n",
       "    </tr>\n",
       "  </thead>\n",
       "  <tbody>\n",
       "    <tr>\n",
       "      <th>900781</th>\n",
       "      <td>75332064</td>\n",
       "      <td>Девушка из харчевни</td>\n",
       "      <td>[Песни Новеллы Матвеевой, Лучшие песни]</td>\n",
       "      <td>[Сегодня в Мире]</td>\n",
       "      <td>[rusrock, allrock, rock]</td>\n",
       "      <td>40</td>\n",
       "    </tr>\n",
       "    <tr>\n",
       "      <th>897539</th>\n",
       "      <td>74744601</td>\n",
       "      <td>Как Вячеслав</td>\n",
       "      <td>[Как Вячеслав, Очевидное и невероятное]</td>\n",
       "      <td>[Радар]</td>\n",
       "      <td>[rusrock, allrock, rock]</td>\n",
       "      <td>9</td>\n",
       "    </tr>\n",
       "    <tr>\n",
       "      <th>885567</th>\n",
       "      <td>73052008</td>\n",
       "      <td>Панк-рок</td>\n",
       "      <td>[Панк-рок, Очевидное и невероятное]</td>\n",
       "      <td>[Радар, Константин Кинчев]</td>\n",
       "      <td>[rusrock, allrock, rock]</td>\n",
       "      <td>144</td>\n",
       "    </tr>\n",
       "    <tr>\n",
       "      <th>882468</th>\n",
       "      <td>72675554</td>\n",
       "      <td>Деменция</td>\n",
       "      <td>[Деменция прекокс и бродяжничество, Деменция]</td>\n",
       "      <td>[Убей меня, Эйс!]</td>\n",
       "      <td>[rusrock, allrock, rock]</td>\n",
       "      <td>26</td>\n",
       "    </tr>\n",
       "    <tr>\n",
       "      <th>791713</th>\n",
       "      <td>61697566</td>\n",
       "      <td>Останемся здесь</td>\n",
       "      <td>[Останемся здесь]</td>\n",
       "      <td>[Lights Out!]</td>\n",
       "      <td>[rusrock, allrock, rock]</td>\n",
       "      <td>5</td>\n",
       "    </tr>\n",
       "  </tbody>\n",
       "</table>\n",
       "</div>"
      ],
      "text/plain": [
       "         item_id                 name  \\\n",
       "900781  75332064  Девушка из харчевни   \n",
       "897539  74744601         Как Вячеслав   \n",
       "885567  73052008             Панк-рок   \n",
       "882468  72675554             Деменция   \n",
       "791713  61697566      Останемся здесь   \n",
       "\n",
       "                                               albums  \\\n",
       "900781        [Песни Новеллы Матвеевой, Лучшие песни]   \n",
       "897539        [Как Вячеслав, Очевидное и невероятное]   \n",
       "885567            [Панк-рок, Очевидное и невероятное]   \n",
       "882468  [Деменция прекокс и бродяжничество, Деменция]   \n",
       "791713                              [Останемся здесь]   \n",
       "\n",
       "                           artists                    genres  num_users  \n",
       "900781            [Сегодня в Мире]  [rusrock, allrock, rock]         40  \n",
       "897539                     [Радар]  [rusrock, allrock, rock]          9  \n",
       "885567  [Радар, Константин Кинчев]  [rusrock, allrock, rock]        144  \n",
       "882468           [Убей меня, Эйс!]  [rusrock, allrock, rock]         26  \n",
       "791713               [Lights Out!]  [rusrock, allrock, rock]          5  "
      ]
     },
     "metadata": {},
     "output_type": "display_data"
    }
   ],
   "source": [
    "user_id = 5\n",
    "get_content_recomendation(user_id, events_train, items, all_items_genres_csr)"
   ]
  },
  {
   "cell_type": "markdown",
   "id": "f7a5ec6c",
   "metadata": {},
   "source": [
    "#### Конец рекомендаций для одного пользователя"
   ]
  },
  {
   "cell_type": "code",
   "execution_count": 11,
   "id": "7195e1e6",
   "metadata": {},
   "outputs": [],
   "source": [
    "events_train = events_train.merge(items.set_index(\"item_id\")[['item_id_enc']], on=\"item_id\")\n",
    "train_item_ids_enc = events_train['item_id_enc'].unique()"
   ]
  },
  {
   "cell_type": "code",
   "execution_count": null,
   "id": "9558dffd",
   "metadata": {},
   "outputs": [],
   "source": [
    "# ~ 67 мин\n",
    "max_similar_items = 10\n",
    "\n",
    "similar_items = als_model.similar_items(train_item_ids_enc, N=max_similar_items+1)"
   ]
  },
  {
   "cell_type": "code",
   "execution_count": 14,
   "id": "f59731b7",
   "metadata": {},
   "outputs": [],
   "source": [
    "# преобразуем полученные списки в табличный формат\n",
    "sim_item_item_ids_enc = similar_items[0]\n",
    "sim_item_scores = similar_items[1]\n",
    "\n",
    "similar_items = pd.DataFrame({\n",
    "    \"item_id_enc\": train_item_ids_enc,\n",
    "    \"sim_item_id_enc\": sim_item_item_ids_enc.tolist(), \n",
    "    \"score\": sim_item_scores.tolist()})\n",
    "\n",
    "similar_items = similar_items.explode([\"sim_item_id_enc\", \"score\"], ignore_index=True)\n",
    "\n",
    "similar_items[\"sim_item_id_enc\"] = similar_items[\"sim_item_id_enc\"].astype(\"int\")\n",
    "similar_items[\"score\"] = similar_items[\"score\"].astype(\"float\")\n",
    "\n",
    "similar_items[\"item_id_1\"] = item_encoder.inverse_transform(similar_items[\"item_id_enc\"])\n",
    "similar_items[\"item_id_2\"] = item_encoder.inverse_transform(similar_items[\"sim_item_id_enc\"])\n",
    "similar_items = similar_items.drop(columns=[\"item_id_enc\", \"sim_item_id_enc\"])\n",
    "\n",
    "similar_items = similar_items.query(\"item_id_1 != item_id_2\")"
   ]
  },
  {
   "cell_type": "code",
   "execution_count": 19,
   "id": "108f9639",
   "metadata": {},
   "outputs": [],
   "source": [
    "def print_sim_items(item_id, similar_items):\n",
    "\n",
    "    item_columns_to_use = ['item_id', 'name' ,'albums', 'artists', 'genres', 'num_users']\n",
    "    \n",
    "    item_id_1 = items.query(\"item_id == @item_id\")[item_columns_to_use]\n",
    "    display(item_id_1)\n",
    "    \n",
    "    si = similar_items.query(\"item_id_1 == @item_id\")\n",
    "    si = si.merge(items[item_columns_to_use].set_index(\"item_id\"), left_on=\"item_id_2\", right_index=True)\n",
    "    display(si)"
   ]
  },
  {
   "cell_type": "code",
   "execution_count": 79,
   "id": "4561f273",
   "metadata": {},
   "outputs": [
    {
     "data": {
      "text/html": [
       "<div>\n",
       "<style scoped>\n",
       "    .dataframe tbody tr th:only-of-type {\n",
       "        vertical-align: middle;\n",
       "    }\n",
       "\n",
       "    .dataframe tbody tr th {\n",
       "        vertical-align: top;\n",
       "    }\n",
       "\n",
       "    .dataframe thead th {\n",
       "        text-align: right;\n",
       "    }\n",
       "</style>\n",
       "<table border=\"1\" class=\"dataframe\">\n",
       "  <thead>\n",
       "    <tr style=\"text-align: right;\">\n",
       "      <th></th>\n",
       "      <th>item_id</th>\n",
       "      <th>name</th>\n",
       "      <th>albums</th>\n",
       "      <th>artists</th>\n",
       "      <th>genres</th>\n",
       "      <th>num_users</th>\n",
       "    </tr>\n",
       "  </thead>\n",
       "  <tbody>\n",
       "    <tr>\n",
       "      <th>59472</th>\n",
       "      <td>575039</td>\n",
       "      <td>Улица роз</td>\n",
       "      <td>[Герой асфальта]</td>\n",
       "      <td>[Ария]</td>\n",
       "      <td>[metal, classicmetal]</td>\n",
       "      <td>11731</td>\n",
       "    </tr>\n",
       "  </tbody>\n",
       "</table>\n",
       "</div>"
      ],
      "text/plain": [
       "       item_id       name            albums artists                 genres  \\\n",
       "59472   575039  Улица роз  [Герой асфальта]  [Ария]  [metal, classicmetal]   \n",
       "\n",
       "       num_users  \n",
       "59472      11731  "
      ]
     },
     "metadata": {},
     "output_type": "display_data"
    },
    {
     "data": {
      "text/html": [
       "<div>\n",
       "<style scoped>\n",
       "    .dataframe tbody tr th:only-of-type {\n",
       "        vertical-align: middle;\n",
       "    }\n",
       "\n",
       "    .dataframe tbody tr th {\n",
       "        vertical-align: top;\n",
       "    }\n",
       "\n",
       "    .dataframe thead th {\n",
       "        text-align: right;\n",
       "    }\n",
       "</style>\n",
       "<table border=\"1\" class=\"dataframe\">\n",
       "  <thead>\n",
       "    <tr style=\"text-align: right;\">\n",
       "      <th></th>\n",
       "      <th>score</th>\n",
       "      <th>item_id_1</th>\n",
       "      <th>item_id_2</th>\n",
       "      <th>name</th>\n",
       "      <th>albums</th>\n",
       "      <th>artists</th>\n",
       "      <th>genres</th>\n",
       "      <th>num_users</th>\n",
       "    </tr>\n",
       "  </thead>\n",
       "  <tbody>\n",
       "    <tr>\n",
       "      <th>271811</th>\n",
       "      <td>0.983079</td>\n",
       "      <td>575039</td>\n",
       "      <td>575073</td>\n",
       "      <td>Возьми моё сердце</td>\n",
       "      <td>[Ночь короче дня]</td>\n",
       "      <td>[Ария]</td>\n",
       "      <td>[metal, classicmetal]</td>\n",
       "      <td>14660</td>\n",
       "    </tr>\n",
       "    <tr>\n",
       "      <th>271812</th>\n",
       "      <td>0.951094</td>\n",
       "      <td>575039</td>\n",
       "      <td>575082</td>\n",
       "      <td>Встань, страх преодолей</td>\n",
       "      <td>[С кем ты?]</td>\n",
       "      <td>[Ария]</td>\n",
       "      <td>[metal, classicmetal]</td>\n",
       "      <td>8227</td>\n",
       "    </tr>\n",
       "    <tr>\n",
       "      <th>271813</th>\n",
       "      <td>0.948064</td>\n",
       "      <td>575039</td>\n",
       "      <td>575075</td>\n",
       "      <td>Ангельская пыль</td>\n",
       "      <td>[Ночь короче дня]</td>\n",
       "      <td>[Ария]</td>\n",
       "      <td>[metal, classicmetal]</td>\n",
       "      <td>7408</td>\n",
       "    </tr>\n",
       "    <tr>\n",
       "      <th>271814</th>\n",
       "      <td>0.941236</td>\n",
       "      <td>575039</td>\n",
       "      <td>592713</td>\n",
       "      <td>Там высоко</td>\n",
       "      <td>[Беспечный ангел]</td>\n",
       "      <td>[Ария]</td>\n",
       "      <td>[metal, classicmetal]</td>\n",
       "      <td>9328</td>\n",
       "    </tr>\n",
       "    <tr>\n",
       "      <th>271815</th>\n",
       "      <td>0.940295</td>\n",
       "      <td>575039</td>\n",
       "      <td>575080</td>\n",
       "      <td>Воля и разум</td>\n",
       "      <td>[С кем ты?]</td>\n",
       "      <td>[Ария]</td>\n",
       "      <td>[metal, classicmetal]</td>\n",
       "      <td>5733</td>\n",
       "    </tr>\n",
       "    <tr>\n",
       "      <th>271816</th>\n",
       "      <td>0.938952</td>\n",
       "      <td>575039</td>\n",
       "      <td>575042</td>\n",
       "      <td>Герой асфальта</td>\n",
       "      <td>[Герой асфальта]</td>\n",
       "      <td>[Ария]</td>\n",
       "      <td>[metal, classicmetal]</td>\n",
       "      <td>5197</td>\n",
       "    </tr>\n",
       "    <tr>\n",
       "      <th>271817</th>\n",
       "      <td>0.932172</td>\n",
       "      <td>575039</td>\n",
       "      <td>592657</td>\n",
       "      <td>Штиль</td>\n",
       "      <td>[Химера]</td>\n",
       "      <td>[Ария]</td>\n",
       "      <td>[metal, classicmetal]</td>\n",
       "      <td>25644</td>\n",
       "    </tr>\n",
       "    <tr>\n",
       "      <th>271818</th>\n",
       "      <td>0.921383</td>\n",
       "      <td>575039</td>\n",
       "      <td>575031</td>\n",
       "      <td>Грязь</td>\n",
       "      <td>[Генератор зла]</td>\n",
       "      <td>[Ария]</td>\n",
       "      <td>[metal, classicmetal]</td>\n",
       "      <td>6808</td>\n",
       "    </tr>\n",
       "    <tr>\n",
       "      <th>271819</th>\n",
       "      <td>0.916692</td>\n",
       "      <td>575039</td>\n",
       "      <td>592661</td>\n",
       "      <td>Осколок льда</td>\n",
       "      <td>[Химера]</td>\n",
       "      <td>[Ария]</td>\n",
       "      <td>[metal, classicmetal]</td>\n",
       "      <td>24512</td>\n",
       "    </tr>\n",
       "    <tr>\n",
       "      <th>271820</th>\n",
       "      <td>0.915875</td>\n",
       "      <td>575039</td>\n",
       "      <td>592649</td>\n",
       "      <td>Потерянный рай</td>\n",
       "      <td>[2000 и одна ночь]</td>\n",
       "      <td>[Ария]</td>\n",
       "      <td>[metal, classicmetal]</td>\n",
       "      <td>20518</td>\n",
       "    </tr>\n",
       "  </tbody>\n",
       "</table>\n",
       "</div>"
      ],
      "text/plain": [
       "           score  item_id_1  item_id_2                     name  \\\n",
       "271811  0.983079     575039     575073        Возьми моё сердце   \n",
       "271812  0.951094     575039     575082  Встань, страх преодолей   \n",
       "271813  0.948064     575039     575075          Ангельская пыль   \n",
       "271814  0.941236     575039     592713               Там высоко   \n",
       "271815  0.940295     575039     575080             Воля и разум   \n",
       "271816  0.938952     575039     575042           Герой асфальта   \n",
       "271817  0.932172     575039     592657                    Штиль   \n",
       "271818  0.921383     575039     575031                    Грязь   \n",
       "271819  0.916692     575039     592661             Осколок льда   \n",
       "271820  0.915875     575039     592649           Потерянный рай   \n",
       "\n",
       "                    albums artists                 genres  num_users  \n",
       "271811   [Ночь короче дня]  [Ария]  [metal, classicmetal]      14660  \n",
       "271812         [С кем ты?]  [Ария]  [metal, classicmetal]       8227  \n",
       "271813   [Ночь короче дня]  [Ария]  [metal, classicmetal]       7408  \n",
       "271814   [Беспечный ангел]  [Ария]  [metal, classicmetal]       9328  \n",
       "271815         [С кем ты?]  [Ария]  [metal, classicmetal]       5733  \n",
       "271816    [Герой асфальта]  [Ария]  [metal, classicmetal]       5197  \n",
       "271817            [Химера]  [Ария]  [metal, classicmetal]      25644  \n",
       "271818     [Генератор зла]  [Ария]  [metal, classicmetal]       6808  \n",
       "271819            [Химера]  [Ария]  [metal, classicmetal]      24512  \n",
       "271820  [2000 и одна ночь]  [Ария]  [metal, classicmetal]      20518  "
      ]
     },
     "metadata": {},
     "output_type": "display_data"
    }
   ],
   "source": [
    "print_sim_items(575039, similar_items)"
   ]
  },
  {
   "cell_type": "code",
   "execution_count": 9,
   "id": "43c5ad06",
   "metadata": {},
   "outputs": [],
   "source": [
    "sparse.save_npz(\"tmp/all_items_genres_csr.npz\", all_items_genres_csr)"
   ]
  },
  {
   "cell_type": "code",
   "execution_count": 17,
   "id": "5c584adc",
   "metadata": {},
   "outputs": [],
   "source": [
    "similar_items.to_parquet(\"data_artifacts/similar_items.parquet\") "
   ]
  },
  {
   "cell_type": "markdown",
   "id": "0087a3e7-ca9f-42cd-944c-944222c1baef",
   "metadata": {},
   "source": [
    "# Построение признаков"
   ]
  },
  {
   "cell_type": "markdown",
   "id": "e82a32e1-b90b-4eaf-9439-fc8deab9f34b",
   "metadata": {},
   "source": [
    "Построим три признака, можно больше, для ранжирующей модели."
   ]
  },
  {
   "cell_type": "code",
   "execution_count": 2,
   "id": "05b4ae84-406a-44a4-abec-4f80f93e3004",
   "metadata": {},
   "outputs": [],
   "source": [
    "genres = pd.read_parquet(\"data_artifacts/genres_by_users.parquet\")\n",
    "items = pd.read_parquet(\"data_artifacts/items.parquet\")"
   ]
  },
  {
   "cell_type": "code",
   "execution_count": 3,
   "id": "ea0ab88e",
   "metadata": {},
   "outputs": [],
   "source": [
    "events = pd.read_parquet(\"data_artifacts/events.parquet\")"
   ]
  },
  {
   "cell_type": "code",
   "execution_count": 47,
   "id": "66247548",
   "metadata": {},
   "outputs": [
    {
     "name": "stdout",
     "output_type": "stream",
     "text": [
      "(173, 3)\n",
      "(1000000, 7)\n",
      "(222629898, 6)\n"
     ]
    }
   ],
   "source": [
    "#genres: (173, 3)\n",
    "#items: (1000000, 7)\n",
    "#events: (222629898, 6)\n",
    "\n",
    "print(genres.shape)\n",
    "print(items.shape)\n",
    "print(events.shape)"
   ]
  },
  {
   "cell_type": "code",
   "execution_count": null,
   "id": "3c0b3d7a",
   "metadata": {},
   "outputs": [],
   "source": [
    "scaler = MinMaxScaler()\n",
    "genres[[\"score\"]] = scaler.fit_transform(genres[[\"num_users\"]])\n",
    "\n",
    "genre_encoder = LabelEncoder()\n",
    "genre_encoder.fit(genres[\"genre_id\"])\n",
    "genres[\"genre_id_enc\"] = genre_encoder.transform(genres[\"genre_id\"])\n",
    "genres = genres.sort_values(by=\"score\", ascending=False)"
   ]
  },
  {
   "cell_type": "code",
   "execution_count": null,
   "id": "fac7cc9e",
   "metadata": {},
   "outputs": [
    {
     "name": "stderr",
     "output_type": "stream",
     "text": [
      "c:\\qqy\\sci\\py-project\\mle-project\\yandex_ML\\mle-recsys-start\\env-recsys-start\\Lib\\site-packages\\numpy\\_core\\fromnumeric.py:3860: RuntimeWarning: Mean of empty slice.\n",
      "  return _methods._mean(a, axis=axis, dtype=dtype,\n",
      "c:\\qqy\\sci\\py-project\\mle-project\\yandex_ML\\mle-recsys-start\\env-recsys-start\\Lib\\site-packages\\numpy\\_core\\_methods.py:145: RuntimeWarning: invalid value encountered in scalar divide\n",
      "  ret = ret.dtype.type(ret / rcount)\n"
     ]
    }
   ],
   "source": [
    "# ~ 4.40 мин\n",
    "for (k, v) in items.iterrows():\n",
    "    \n",
    "    item_id = v['item_id']\n",
    "    num_albums = len(v['albums'])\n",
    "\n",
    "    genre_score = []\n",
    "    for genre_name in v[\"genres\"]:\n",
    "        ans = genres[genres['name']==genre_name]['score'].to_list()[0]\n",
    "        genre_score.append(ans)\n",
    "    \n",
    "    genre_score_mean = np.mean(genre_score)\n",
    "    items.at[k, \"num_albums\"] = int(num_albums)\n",
    "    items.at[k, \"genre_score_mean\"] = genre_score_mean\n",
    "\n",
    "items[\"num_albums\"] = items[\"num_albums\"].astype(\"int\")\n",
    "items[\"genre_score_mean\"] = items[\"genre_score_mean\"].astype(\"float\")"
   ]
  },
  {
   "cell_type": "code",
   "execution_count": 41,
   "id": "150b9fcb",
   "metadata": {},
   "outputs": [],
   "source": [
    "item_encoder = LabelEncoder()\n",
    "item_encoder.fit(items[\"item_id\"])\n",
    "items[\"item_id_enc\"] = item_encoder.transform(items[\"item_id\"])\n",
    "items = items.sort_values(by=\"item_id_enc\")"
   ]
  },
  {
   "cell_type": "code",
   "execution_count": 15,
   "id": "d0e82db3",
   "metadata": {},
   "outputs": [],
   "source": [
    "user_features = events.groupby(\"user_id\").agg(\n",
    "    listening_month = (\"started_at\", lambda x: (x.max()-x.min()).days/30),\n",
    "    tracks_listened=(\"item_id\", \"count\"))"
   ]
  },
  {
   "cell_type": "code",
   "execution_count": 17,
   "id": "f8a488ea",
   "metadata": {},
   "outputs": [],
   "source": [
    "user_features[\"tracks_per_month\"] = user_features[\"tracks_listened\"] / user_features[\"listening_month\"]"
   ]
  },
  {
   "cell_type": "code",
   "execution_count": 43,
   "id": "bfe62ef1",
   "metadata": {},
   "outputs": [],
   "source": [
    "items.to_parquet(\"data_artifacts/items_with_features.parquet\") "
   ]
  },
  {
   "cell_type": "code",
   "execution_count": 19,
   "id": "00f84c35-f544-4c3d-ad53-9b1d2b684c75",
   "metadata": {},
   "outputs": [],
   "source": [
    "user_features.to_parquet(\"data_artifacts/user_features.parquet\") "
   ]
  },
  {
   "cell_type": "markdown",
   "id": "47bcf88d-b236-46f0-a6f3-38ddd64895fe",
   "metadata": {},
   "source": [
    "# Ранжирование рекомендаций"
   ]
  },
  {
   "cell_type": "markdown",
   "id": "e8cd8223-3418-4493-8c87-1f76286ebda0",
   "metadata": {},
   "source": [
    "Построим ранжирующую модель, чтобы сделать рекомендации более точными. Отранжируем рекомендации."
   ]
  },
  {
   "cell_type": "code",
   "execution_count": 2,
   "id": "79f1dd92-32a9-463d-827e-8bb9ee5bbb54",
   "metadata": {},
   "outputs": [],
   "source": [
    "events_test = pd.read_parquet(\"tmp/events_test.parquet\")\n",
    "personal_als = pd.read_parquet(\"recomendation/personal_als.parquet\")"
   ]
  },
  {
   "cell_type": "code",
   "execution_count": 3,
   "id": "b92ad515",
   "metadata": {},
   "outputs": [],
   "source": [
    "items_with_features= pd.read_parquet(\"data_artifacts/items_with_features.parquet\") \n",
    "user_features= pd.read_parquet(\"data_artifacts/user_features.parquet\")"
   ]
  },
  {
   "cell_type": "code",
   "execution_count": 4,
   "id": "45c6633f",
   "metadata": {},
   "outputs": [
    {
     "name": "stdout",
     "output_type": "stream",
     "text": [
      "(13898646, 6)\n",
      "(7835250, 4)\n",
      "(1000000, 10)\n",
      "(1373221, 3)\n"
     ]
    }
   ],
   "source": [
    "#events_test: (13898646, 6)\n",
    "#personal_als: (7835250, 4)\n",
    "#items_with_features: (1000000, 10)\n",
    "#user_features: (1373221, 3)\n",
    "\n",
    "print(events_test.shape)\n",
    "print(personal_als.shape)\n",
    "print(items_with_features.shape)\n",
    "print(user_features.shape)"
   ]
  },
  {
   "cell_type": "code",
   "execution_count": 5,
   "id": "bf01d9a3",
   "metadata": {},
   "outputs": [],
   "source": [
    "split_date_for_labels = pd.to_datetime(\"2022-12-21\")\n",
    "\n",
    "split_date_for_labels_idx = events_test[\"started_at\"] < split_date_for_labels\n",
    "\n",
    "events_labels = events_test[split_date_for_labels_idx].copy()\n",
    "events_test_2 = events_test[~split_date_for_labels_idx].copy()"
   ]
  },
  {
   "cell_type": "code",
   "execution_count": 6,
   "id": "ac240f3b",
   "metadata": {},
   "outputs": [],
   "source": [
    "candidates = personal_als[[\"user_id\", \"item_id\", \"score\"]].rename(columns={\"score\": \"als_score\"})"
   ]
  },
  {
   "cell_type": "code",
   "execution_count": 7,
   "id": "973a2d8d",
   "metadata": {},
   "outputs": [],
   "source": [
    "# добавляем таргет к кандидатам со значением:\n",
    "# — 1 для тех item_id, которые пользователь прослушал\n",
    "# — 0, для всех остальных \n",
    "\n",
    "events_labels[\"target\"] = 1\n",
    "candidates = candidates.merge(events_labels[[\"target\", \"user_id\", \"item_id\"]], on=[\"user_id\", \"item_id\"], how=\"left\")\n",
    "candidates[\"target\"] = candidates[\"target\"].fillna(0).astype(\"int\")"
   ]
  },
  {
   "cell_type": "code",
   "execution_count": 8,
   "id": "23673717",
   "metadata": {},
   "outputs": [],
   "source": [
    "# в кандидатах оставляем только тех пользователей, у которых есть хотя бы один положительный таргет\n",
    "candidates_to_sample = candidates.groupby(\"user_id\").filter(lambda x: x[\"target\"].sum() > 0)"
   ]
  },
  {
   "cell_type": "code",
   "execution_count": 9,
   "id": "3e6d8f66",
   "metadata": {},
   "outputs": [
    {
     "name": "stderr",
     "output_type": "stream",
     "text": [
      "C:\\Users\\qqy_i\\AppData\\Local\\Temp\\ipykernel_15012\\2944259214.py:8: DeprecationWarning: DataFrameGroupBy.apply operated on the grouping columns. This behavior is deprecated, and in a future version of pandas the grouping columns will be excluded from the operation. Either pass `include_groups=False` to exclude the groupings or explicitly select the grouping columns after groupby to silence this warning.\n",
      "  .apply(lambda x: x.sample(negatives_per_user, random_state=0))\n"
     ]
    }
   ],
   "source": [
    "# для каждого пользователя оставляем только 3 негативных примера\n",
    "\n",
    "negatives_per_user = 3\n",
    "candidates_for_train = pd.concat([\n",
    "    candidates_to_sample.query(\"target == 1\"),\n",
    "    candidates_to_sample.query(\"target == 0\") \\\n",
    "        .groupby(\"user_id\") \\\n",
    "        .apply(lambda x: x.sample(negatives_per_user, random_state=0))\n",
    "    ])"
   ]
  },
  {
   "cell_type": "code",
   "execution_count": 13,
   "id": "d91eba0d",
   "metadata": {},
   "outputs": [],
   "source": [
    "candidates_to_rank = personal_als[[\"user_id\", \"item_id\", \"score\"]].rename(columns={\"score\": \"als_score\"})"
   ]
  },
  {
   "cell_type": "code",
   "execution_count": 10,
   "id": "cc480681",
   "metadata": {},
   "outputs": [],
   "source": [
    "candidates_for_train = candidates_for_train.merge(items_with_features[[\"num_albums\", \"genre_score_mean\", \"item_id\"]],on=[\"item_id\"], how=\"left\")\n",
    "candidates_for_train = candidates_for_train.merge(user_features, on=\"user_id\", how=\"left\")"
   ]
  },
  {
   "cell_type": "code",
   "execution_count": 14,
   "id": "bbab5734",
   "metadata": {},
   "outputs": [],
   "source": [
    "candidates_to_rank = candidates_to_rank.merge(items_with_features[[\"num_albums\", \"genre_score_mean\", \"item_id\"]],on=[\"item_id\"], how=\"left\")\n",
    "candidates_to_rank = candidates_to_rank.merge(user_features, on=\"user_id\", how=\"left\")"
   ]
  },
  {
   "cell_type": "code",
   "execution_count": 12,
   "id": "0184d6a0",
   "metadata": {},
   "outputs": [
    {
     "name": "stdout",
     "output_type": "stream",
     "text": [
      "0:\tlearn: 0.6708856\ttotal: 179ms\tremaining: 2m 58s\n",
      "100:\tlearn: 0.5527206\ttotal: 1.14s\tremaining: 10.1s\n",
      "200:\tlearn: 0.5405363\ttotal: 2.08s\tremaining: 8.27s\n",
      "300:\tlearn: 0.5344998\ttotal: 3.02s\tremaining: 7s\n",
      "400:\tlearn: 0.5298036\ttotal: 3.94s\tremaining: 5.89s\n",
      "500:\tlearn: 0.5259817\ttotal: 4.87s\tremaining: 4.85s\n",
      "600:\tlearn: 0.5230821\ttotal: 5.82s\tremaining: 3.86s\n",
      "700:\tlearn: 0.5203918\ttotal: 6.78s\tremaining: 2.89s\n",
      "800:\tlearn: 0.5178646\ttotal: 7.85s\tremaining: 1.95s\n",
      "900:\tlearn: 0.5154420\ttotal: 8.99s\tremaining: 988ms\n",
      "999:\tlearn: 0.5133191\ttotal: 10.1s\tremaining: 0us\n"
     ]
    },
    {
     "data": {
      "text/plain": [
       "<catboost.core.CatBoostClassifier at 0x2291faf0440>"
      ]
     },
     "execution_count": 12,
     "metadata": {},
     "output_type": "execute_result"
    }
   ],
   "source": [
    "features = ['als_score', 'num_albums', 'genre_score_mean', 'listening_month', 'tracks_listened', 'tracks_per_month']\n",
    "target = 'target'\n",
    "\n",
    "train_data = Pool(\n",
    "    data=candidates_for_train[features], \n",
    "    label=candidates_for_train[target])\n",
    "\n",
    "cb_model = CatBoostClassifier(\n",
    "    iterations=1000,\n",
    "    learning_rate=0.1,\n",
    "    depth=6,\n",
    "    loss_function='Logloss',\n",
    "    verbose=100,\n",
    "    random_seed=0,\n",
    ")\n",
    "\n",
    "cb_model.fit(train_data)"
   ]
  },
  {
   "cell_type": "code",
   "execution_count": 15,
   "id": "ea437839",
   "metadata": {},
   "outputs": [],
   "source": [
    "inference_data = Pool(data=candidates_to_rank[features])\n",
    "predictions = cb_model.predict_proba(inference_data)\n",
    "\n",
    "candidates_to_rank[\"cb_score\"] = predictions[:, 1]"
   ]
  },
  {
   "cell_type": "code",
   "execution_count": 17,
   "id": "a7f241f6",
   "metadata": {},
   "outputs": [],
   "source": [
    "candidates_to_rank = candidates_to_rank.sort_values([\"user_id\", \"cb_score\"], ascending=[True, False])\n",
    "candidates_to_rank[\"rank\"] = candidates_to_rank.groupby(\"user_id\").cumcount() + 1\n",
    "\n",
    "max_recommendations_per_user = 10\n",
    "final_recommendations = candidates_to_rank.query(\"rank <= @max_recommendations_per_user\")"
   ]
  },
  {
   "cell_type": "code",
   "execution_count": 20,
   "id": "73e8b8c2",
   "metadata": {},
   "outputs": [
    {
     "name": "stdout",
     "output_type": "stream",
     "text": [
      "                         fi\n",
      "genre_score_mean  36.459535\n",
      "num_albums        34.435808\n",
      "als_score         13.738880\n",
      "listening_month    7.045092\n",
      "tracks_listened    4.931646\n",
      "tracks_per_month   3.389039\n"
     ]
    }
   ],
   "source": [
    "feature_importance = pd.DataFrame(cb_model.get_feature_importance(), \n",
    "    index=features, \n",
    "    columns=[\"fi\"])\n",
    "\n",
    "feature_importance= feature_importance.sort_values('fi', ascending=False)\n",
    "print(feature_importance)"
   ]
  },
  {
   "cell_type": "code",
   "execution_count": 21,
   "id": "bb542a46",
   "metadata": {},
   "outputs": [],
   "source": [
    "final_recommendations.to_parquet(\"recomendation/recommendations.parquet\")"
   ]
  },
  {
   "cell_type": "markdown",
   "id": "b3c84071-45b5-4a15-a683-e0ab034a3128",
   "metadata": {},
   "source": [
    "# Оценка качества"
   ]
  },
  {
   "cell_type": "markdown",
   "id": "1b107fe4-554e-42b1-87d9-c435a52bb77a",
   "metadata": {},
   "source": [
    "Проверим оценку качества трёх типов рекомендаций: \n",
    "\n",
    "- топ популярных,\n",
    "- персональных, полученных при помощи ALS,\n",
    "- итоговых\n",
    "  \n",
    "по четырем метрикам: recall, precision, coverage, novelty."
   ]
  },
  {
   "cell_type": "code",
   "execution_count": 24,
   "id": "811d93dd",
   "metadata": {},
   "outputs": [],
   "source": [
    "events_train = pd.read_parquet(\"tmp/events_train.parquet\")\n",
    "events_test = pd.read_parquet(\"tmp/events_test.parquet\")"
   ]
  },
  {
   "cell_type": "code",
   "execution_count": 26,
   "id": "5b1e43cf",
   "metadata": {},
   "outputs": [],
   "source": [
    "items = pd.read_parquet(\"data_artifacts/items.parquet\")"
   ]
  },
  {
   "cell_type": "code",
   "execution_count": null,
   "id": "c55139f4",
   "metadata": {},
   "outputs": [],
   "source": [
    "cold_users= pd.read_parquet(\"tmp/cold_users.parquet\")\n",
    "common_users= pd.read_parquet(\"tmp/common_users.parquet\")\n",
    "top_popular= pd.read_parquet(\"recomendation/top_popular.parquet\")\n",
    "personal_als = pd.read_parquet(\"recomendation/personal_als.parquet\")\n",
    "recommendations= pd.read_parquet(\"recomendation/recommendations.parquet\")"
   ]
  },
  {
   "cell_type": "code",
   "execution_count": null,
   "id": "98020df1",
   "metadata": {},
   "outputs": [
    {
     "name": "stdout",
     "output_type": "stream",
     "text": [
      "(1000000, 7)\n",
      "(208731252, 6)\n",
      "(13898646, 6)\n",
      "(30655, 1)\n",
      "(752870, 1)\n",
      "(100, 8)\n",
      "(7835250, 4)\n",
      "(7835250, 10)\n"
     ]
    }
   ],
   "source": [
    "#items: (1000000, 7)\n",
    "#events_train: (208731252, 7)\n",
    "#events_test: (13898646, 7)\n",
    "#cold_users: (30655, 1)\n",
    "#common_users: (752870, 1)\n",
    "#top_popular: (100, 8)\n",
    "#personal_als: (7835250, 4)\n",
    "#recommendations: (7835250, 10)\n",
    "\n",
    "print(items.shape)\n",
    "print(events_train.shape)\n",
    "print(events_test.shape)\n",
    "print(cold_users.shape)\n",
    "print(common_users.shape)\n",
    "print(top_popular.shape)\n",
    "print(personal_als.shape)\n",
    "print(recommendations.shape)"
   ]
  },
  {
   "cell_type": "code",
   "execution_count": 34,
   "id": "a5f0906c",
   "metadata": {},
   "outputs": [],
   "source": [
    "def process_events_recs_for_binary_metrics(events_train, events_test, recs, top_k=None):\n",
    "\n",
    "    \"\"\"\n",
    "    размечает пары <user_id, item_id> для общего множества пользователей признаками\n",
    "    - gt (ground truth)\n",
    "    - pr (prediction)\n",
    "    top_k: расчёт ведётся только для top k-рекомендаций\n",
    "    \"\"\"\n",
    "\n",
    "    events_test[\"gt\"] = True\n",
    "    common_users = set(events_test[\"user_id\"]) & set(recs[\"user_id\"])\n",
    "\n",
    "    print(f\"Common users: {len(common_users)}\")\n",
    "    \n",
    "    events_for_common_users = events_test[events_test[\"user_id\"].isin(common_users)].copy()\n",
    "    recs_for_common_users = recs[recs[\"user_id\"].isin(common_users)].copy()\n",
    "\n",
    "    recs_for_common_users = recs_for_common_users.sort_values([\"user_id\", \"score\"], ascending=[True, False])\n",
    "\n",
    "    # оставляет только те item_id, которые были в events_train, \n",
    "    # т. к. модель не имела никакой возможности давать рекомендации для новых айтемов\n",
    "    events_for_common_users = events_for_common_users[events_for_common_users[\"item_id\"].isin(events_train[\"item_id\"].unique())]\n",
    "\n",
    "    if top_k is not None:\n",
    "        recs_for_common_users = recs_for_common_users.groupby(\"user_id\").head(top_k)\n",
    "    \n",
    "    events_recs_common = events_for_common_users[[\"user_id\", \"item_id\", \"gt\"]].merge(\n",
    "        recs_for_common_users[[\"user_id\", \"item_id\", \"score\"]], \n",
    "        on=[\"user_id\", \"item_id\"], how=\"outer\")    \n",
    "\n",
    "    events_recs_common[\"gt\"] = events_recs_common[\"gt\"].fillna(False)\n",
    "    events_recs_common[\"pr\"] = ~events_recs_common[\"score\"].isnull()\n",
    "    \n",
    "    events_recs_common[\"tp\"] = events_recs_common[\"gt\"] & events_recs_common[\"pr\"]\n",
    "    events_recs_common[\"fp\"] = ~events_recs_common[\"gt\"] & events_recs_common[\"pr\"]\n",
    "    events_recs_common[\"fn\"] = events_recs_common[\"gt\"] & ~events_recs_common[\"pr\"]\n",
    "\n",
    "    return events_recs_common\n",
    "\n",
    "\n",
    "def compute_cls_metrics(events_recs_for_binary_metric):\n",
    "    \n",
    "    groupper = events_recs_for_binary_metric.groupby(\"user_id\")\n",
    "\n",
    "    # precision = tp / (tp + fp)\n",
    "    precision = groupper[\"tp\"].sum()/(groupper[\"tp\"].sum()+groupper[\"fp\"].sum())\n",
    "    precision = precision.fillna(0).mean()\n",
    "    \n",
    "    # recall = tp / (tp + fn)\n",
    "    recall = groupper[\"tp\"].sum()/(groupper[\"tp\"].sum()+groupper[\"fn\"].sum())\n",
    "    recall = recall.fillna(0).mean()\n",
    "\n",
    "\n",
    "    return precision, recall"
   ]
  },
  {
   "cell_type": "code",
   "execution_count": null,
   "id": "16093026",
   "metadata": {},
   "outputs": [],
   "source": [
    "split_date_for_labels = pd.to_datetime(\"2022-12-21\")\n",
    "\n",
    "split_date_for_labels_idx = events_test[\"started_at\"] < split_date_for_labels\n",
    "\n",
    "events_labels = events_test[split_date_for_labels_idx].copy()\n",
    "events_test_2 = events_test[~split_date_for_labels_idx].copy()"
   ]
  },
  {
   "cell_type": "markdown",
   "id": "cf8fcc7d",
   "metadata": {},
   "source": [
    "### Оценка рекомендаций ТОП 100"
   ]
  },
  {
   "cell_type": "code",
   "execution_count": 25,
   "id": "5b536f42",
   "metadata": {},
   "outputs": [
    {
     "data": {
      "text/html": [
       "<div>\n",
       "<style scoped>\n",
       "    .dataframe tbody tr th:only-of-type {\n",
       "        vertical-align: middle;\n",
       "    }\n",
       "\n",
       "    .dataframe tbody tr th {\n",
       "        vertical-align: top;\n",
       "    }\n",
       "\n",
       "    .dataframe thead th {\n",
       "        text-align: right;\n",
       "    }\n",
       "</style>\n",
       "<table border=\"1\" class=\"dataframe\">\n",
       "  <thead>\n",
       "    <tr style=\"text-align: right;\">\n",
       "      <th></th>\n",
       "      <th>user_id</th>\n",
       "      <th>item_id</th>\n",
       "      <th>users_top_norm</th>\n",
       "      <th>num_users_norm</th>\n",
       "    </tr>\n",
       "  </thead>\n",
       "  <tbody>\n",
       "    <tr>\n",
       "      <th>56</th>\n",
       "      <td>83</td>\n",
       "      <td>57921154</td>\n",
       "      <td>0.799990</td>\n",
       "      <td>0.672880</td>\n",
       "    </tr>\n",
       "    <tr>\n",
       "      <th>100</th>\n",
       "      <td>171</td>\n",
       "      <td>54400255</td>\n",
       "      <td>0.582423</td>\n",
       "      <td>0.467301</td>\n",
       "    </tr>\n",
       "    <tr>\n",
       "      <th>106</th>\n",
       "      <td>175</td>\n",
       "      <td>39307896</td>\n",
       "      <td>0.446433</td>\n",
       "      <td>0.468381</td>\n",
       "    </tr>\n",
       "    <tr>\n",
       "      <th>115</th>\n",
       "      <td>175</td>\n",
       "      <td>50834580</td>\n",
       "      <td>0.589671</td>\n",
       "      <td>0.531808</td>\n",
       "    </tr>\n",
       "    <tr>\n",
       "      <th>141</th>\n",
       "      <td>440</td>\n",
       "      <td>2758009</td>\n",
       "      <td>0.497889</td>\n",
       "      <td>0.703927</td>\n",
       "    </tr>\n",
       "  </tbody>\n",
       "</table>\n",
       "</div>"
      ],
      "text/plain": [
       "     user_id   item_id  users_top_norm  num_users_norm\n",
       "56        83  57921154        0.799990        0.672880\n",
       "100      171  54400255        0.582423        0.467301\n",
       "106      175  39307896        0.446433        0.468381\n",
       "115      175  50834580        0.589671        0.531808\n",
       "141      440   2758009        0.497889        0.703927"
      ]
     },
     "metadata": {},
     "output_type": "display_data"
    },
    {
     "name": "stdout",
     "output_type": "stream",
     "text": [
      "Метрики рекомендаций для \"холодных\" пользователей : rmse = 0.15, mae = 0.12\n",
      "Доля пользователей без релевантных рекомендаций: 0.47\n",
      "Среднее покрытие пользователей: 0.11\n"
     ]
    }
   ],
   "source": [
    "#даем рекомендации \"холодным\" пользователям, основывая на топ 100 популярных треков в период с 2022-09-01 по 2202-12-15\n",
    "#оценим качество рекомендаций\n",
    "\n",
    "cold_users_events =  events_test[['user_id', 'item_id']]\\\n",
    "                    .loc[events_test[\"user_id\"].isin(cold_users['user_id'].to_list())]\\\n",
    "                    .merge(top_popular[[\"item_id\", \"users_top_norm\", \"num_users_norm\"]], on=\"item_id\", how=\"left\")\n",
    "\n",
    "cold_user_items_no_rating_idx = cold_users_events[\"users_top_norm\"].isnull()\n",
    "cold_user_recs = cold_users_events[~cold_user_items_no_rating_idx][[\"user_id\", \"item_id\", \"users_top_norm\", \"num_users_norm\"]]\n",
    " \n",
    "display(cold_user_recs.head(5))\n",
    "\n",
    "\n",
    "rmse = np.sqrt(mean_squared_error(cold_user_recs[\"num_users_norm\"], cold_user_recs[\"users_top_norm\"]))\n",
    "mae = mean_absolute_error(cold_user_recs[\"num_users_norm\"], cold_user_recs[\"users_top_norm\"])\n",
    "cov_items = len(cold_user_recs['item_id'].unique())/len(items)\n",
    "\n",
    "cold_users_hit_ratio = cold_users_events.groupby(\"user_id\").agg(hits=(\"users_top_norm\", lambda x: (~x.isnull()).mean()))\n",
    "\n",
    "print(f'Метрики рекомендаций для \"холодных\" пользователей : rmse = {round(rmse, 2)}, mae = {round(mae, 2)}')\n",
    "print(f\"Доля пользователей без релевантных рекомендаций: {(cold_users_hit_ratio == 0).mean().iat[0]:.2f}\")\n",
    "print(f\"Среднее покрытие пользователей: {cold_users_hit_ratio[cold_users_hit_ratio != 0].mean().iat[0]:.2f}\")\n"
   ]
  },
  {
   "cell_type": "code",
   "execution_count": 27,
   "id": "c309fba5",
   "metadata": {},
   "outputs": [
    {
     "data": {
      "text/html": [
       "<div>\n",
       "<style scoped>\n",
       "    .dataframe tbody tr th:only-of-type {\n",
       "        vertical-align: middle;\n",
       "    }\n",
       "\n",
       "    .dataframe tbody tr th {\n",
       "        vertical-align: top;\n",
       "    }\n",
       "\n",
       "    .dataframe thead th {\n",
       "        text-align: right;\n",
       "    }\n",
       "</style>\n",
       "<table border=\"1\" class=\"dataframe\">\n",
       "  <thead>\n",
       "    <tr style=\"text-align: right;\">\n",
       "      <th></th>\n",
       "      <th>user_id</th>\n",
       "      <th>item_id</th>\n",
       "      <th>users_top_norm</th>\n",
       "      <th>num_users_norm</th>\n",
       "    </tr>\n",
       "  </thead>\n",
       "  <tbody>\n",
       "    <tr>\n",
       "      <th>0</th>\n",
       "      <td>3</td>\n",
       "      <td>78194999</td>\n",
       "      <td>0.479717</td>\n",
       "      <td>0.356078</td>\n",
       "    </tr>\n",
       "    <tr>\n",
       "      <th>29</th>\n",
       "      <td>10</td>\n",
       "      <td>45499814</td>\n",
       "      <td>0.839205</td>\n",
       "      <td>0.763059</td>\n",
       "    </tr>\n",
       "    <tr>\n",
       "      <th>31</th>\n",
       "      <td>10</td>\n",
       "      <td>49125069</td>\n",
       "      <td>0.486093</td>\n",
       "      <td>0.424593</td>\n",
       "    </tr>\n",
       "    <tr>\n",
       "      <th>84</th>\n",
       "      <td>15</td>\n",
       "      <td>57921154</td>\n",
       "      <td>0.799990</td>\n",
       "      <td>0.672880</td>\n",
       "    </tr>\n",
       "    <tr>\n",
       "      <th>85</th>\n",
       "      <td>15</td>\n",
       "      <td>65851540</td>\n",
       "      <td>0.997487</td>\n",
       "      <td>0.780365</td>\n",
       "    </tr>\n",
       "  </tbody>\n",
       "</table>\n",
       "</div>"
      ],
      "text/plain": [
       "    user_id   item_id  users_top_norm  num_users_norm\n",
       "0         3  78194999        0.479717        0.356078\n",
       "29       10  45499814        0.839205        0.763059\n",
       "31       10  49125069        0.486093        0.424593\n",
       "84       15  57921154        0.799990        0.672880\n",
       "85       15  65851540        0.997487        0.780365"
      ]
     },
     "metadata": {},
     "output_type": "display_data"
    },
    {
     "name": "stdout",
     "output_type": "stream",
     "text": [
      "Метрики рекомендаций для \"холодных\" пользователей : rmse = 0.13, mae = 0.12\n",
      "Доля пользователей без релевантных рекомендаций: 0.72\n",
      "Среднее покрытие пользователей: 0.20\n"
     ]
    }
   ],
   "source": [
    "#даем рекомендации для старых пользователям (есть в events_train и events_test), основывая на топ 100 популярных треков в период с 2022-09-01 по 2202-12-15\n",
    "#оценим качество рекомендаций\n",
    "\n",
    "common_users_events =  events_test[['user_id', 'item_id']]\\\n",
    "                    .loc[events_test[\"user_id\"].isin(common_users['user_id'].to_list())]\\\n",
    "                    .merge(top_popular[[\"item_id\", \"users_top_norm\", \"num_users_norm\"]], on=\"item_id\", how=\"left\")\n",
    "\n",
    "common_user_items_no_rating_idx = common_users_events[\"users_top_norm\"].isnull()\n",
    "common_user_recs = common_users_events[~common_user_items_no_rating_idx][[\"user_id\", \"item_id\", \"users_top_norm\", \"num_users_norm\"]]\n",
    " \n",
    "display(common_user_recs.head(5))\n",
    "\n",
    "rmse = np.sqrt(mean_squared_error(common_user_recs[\"num_users_norm\"], common_user_recs[\"users_top_norm\"]))\n",
    "mae = mean_absolute_error(common_user_recs[\"num_users_norm\"], common_user_recs[\"users_top_norm\"])\n",
    "cov_items = len(common_user_recs['item_id'].unique())/len(items)\n",
    "\n",
    "common_users_hit_ratio = common_users_events.groupby(\"user_id\").agg(hits=(\"users_top_norm\", lambda x: (~x.isnull()).mean()))\n",
    "\n",
    "print(f'Метрики рекомендаций для \"холодных\" пользователей : rmse = {round(rmse, 2)}, mae = {round(mae, 2)}')\n",
    "print(f\"Доля пользователей без релевантных рекомендаций: {(common_users_hit_ratio == 0).mean().iat[0]:.2f}\")\n",
    "print(f\"Среднее покрытие пользователей: {common_users_hit_ratio[common_users_hit_ratio != 0].mean().iat[0]:.2f}\")"
   ]
  },
  {
   "cell_type": "markdown",
   "id": "c580fa54",
   "metadata": {},
   "source": [
    "### Конец оценки рекомендаций ТОП 100"
   ]
  },
  {
   "cell_type": "markdown",
   "id": "d3c80378",
   "metadata": {},
   "source": [
    "### Оценка персональных рекомендаций (ALS)"
   ]
  },
  {
   "cell_type": "code",
   "execution_count": 51,
   "id": "27b45e05",
   "metadata": {},
   "outputs": [],
   "source": [
    "events_train = pd.read_parquet(\"tmp/events_train.parquet\")\n",
    "events_test = pd.read_parquet(\"tmp/events_test.parquet\")\n",
    "personal_als= pd.read_parquet(\"recomendation/personal_als.parquet\")"
   ]
  },
  {
   "cell_type": "code",
   "execution_count": null,
   "id": "85b79c00",
   "metadata": {},
   "outputs": [
    {
     "name": "stdout",
     "output_type": "stream",
     "text": [
      "(208731252, 6)\n",
      "(13898646, 6)\n",
      "(7835250, 4)\n"
     ]
    }
   ],
   "source": [
    "#events_train: (208731252, 6)\n",
    "#events_test: (13898646, 6)\n",
    "#personal_als: (7835250, 4)\n",
    "\n",
    "print(events_train.shape)\n",
    "print(events_test.shape)\n",
    "print(personal_als.shape)"
   ]
  },
  {
   "cell_type": "code",
   "execution_count": null,
   "id": "055f43b9",
   "metadata": {},
   "outputs": [],
   "source": [
    "def compute_ndcg(rating: pd.Series, score: pd.Series, k):\n",
    "\n",
    "    \"\"\" подсчёт ndcg\n",
    "    rating: истинные оценки\n",
    "    score: оценки модели\n",
    "    k: количество айтемов (по убыванию score) для оценки, остальные - отбрасываются\n",
    "    \"\"\"\n",
    "    \n",
    "    # если кол-во объектов меньше 2, то NDCG - не определена\n",
    "    if len(rating) < 2:\n",
    "        return np.nan\n",
    "\n",
    "    ndcg = ndcg_score(np.asarray([rating.to_numpy()]), np.asarray([score.to_numpy()]), k=k)\n",
    "\n",
    "    return ndcg\n",
    "\n",
    "personal_als = (personal_als.merge(events_test[[\"user_id\", \"item_id\", \"num_users_norm\"]]\\\n",
    "                .rename(columns={\"num_users_norm\": \"rating_test\"}), on=[\"user_id\",\"item_id\"], how=\"left\"))\n",
    "\n",
    "rating_test_idx = ~personal_als[\"rating_test\"].isnull()\n",
    "ndcg_at_5_scores = personal_als[rating_test_idx].groupby(\"user_id\").apply(lambda x: compute_ndcg(x[\"rating_test\"], x[\"score\"], k=5), include_groups=False)\n",
    "\n",
    "ndcg_at_5_mean = ndcg_at_5_scores.mean()\n",
    "print(f'ndcg@5 = {round(ndcg_at_5_mean, 2)}')"
   ]
  },
  {
   "cell_type": "code",
   "execution_count": 62,
   "id": "4692db6b",
   "metadata": {},
   "outputs": [],
   "source": [
    "def compute_cls_metrics(events_recs_for_binary_metric):\n",
    "    \n",
    "    groupper = events_recs_for_binary_metric.groupby(\"user_id\")\n",
    "\n",
    "    # precision = tp / (tp + fp)\n",
    "    precision = groupper[\"tp\"].sum()/(groupper[\"tp\"].sum()+groupper[\"fp\"].sum())\n",
    "    precision = precision.fillna(0).infer_objects(copy=False).mean()\n",
    "    \n",
    "    # recall = tp / (tp + fn)\n",
    "    recall = groupper[\"tp\"].sum()/(groupper[\"tp\"].sum()+groupper[\"fn\"].sum())\n",
    "    recall = recall.fillna(0).infer_objects(copy=False).mean()\n",
    "\n",
    "\n",
    "    return precision, recall"
   ]
  },
  {
   "cell_type": "code",
   "execution_count": 64,
   "id": "e7eed5d9",
   "metadata": {},
   "outputs": [
    {
     "name": "stdout",
     "output_type": "stream",
     "text": [
      "Common users: 783525\n"
     ]
    },
    {
     "name": "stderr",
     "output_type": "stream",
     "text": [
      "C:\\Users\\qqy_i\\AppData\\Local\\Temp\\ipykernel_13284\\1697557694.py:29: FutureWarning: Downcasting object dtype arrays on .fillna, .ffill, .bfill is deprecated and will change in a future version. Call result.infer_objects(copy=False) instead. To opt-in to the future behavior, set `pd.set_option('future.no_silent_downcasting', True)`\n",
      "  events_recs_common[\"gt\"] = events_recs_common[\"gt\"].fillna(False).infer_objects(copy=False)\n"
     ]
    }
   ],
   "source": [
    "events_recs_for_binary_metrics = process_events_recs_for_binary_metrics(events_train, events_test, personal_als, top_k=5)\n",
    "precision, recall=compute_cls_metrics(events_recs_for_binary_metrics)"
   ]
  },
  {
   "cell_type": "code",
   "execution_count": 65,
   "id": "758e736f",
   "metadata": {},
   "outputs": [
    {
     "name": "stdout",
     "output_type": "stream",
     "text": [
      "precision = 0.0068, recall= 0.0055\n"
     ]
    }
   ],
   "source": [
    "\n",
    "print(f'precision = {round(precision, 4)}, recall= {round(recall, 4)}')\n"
   ]
  },
  {
   "cell_type": "markdown",
   "id": "6dcdd6ca",
   "metadata": {},
   "source": [
    "### Конец оценки персональных рекомендаций (ALS)"
   ]
  },
  {
   "cell_type": "markdown",
   "id": "40fcd023",
   "metadata": {},
   "source": [
    "### Оценка качества итоговых рекомендаций"
   ]
  },
  {
   "cell_type": "code",
   "execution_count": 31,
   "id": "84ff8b9f",
   "metadata": {},
   "outputs": [],
   "source": [
    "events_inference = pd.concat([events_train, events_labels])\n",
    "events_inference = events_inference[events_inference[\"user_id\"].isin(events_test_2[\"user_id\"].drop_duplicates())]"
   ]
  },
  {
   "cell_type": "code",
   "execution_count": 35,
   "id": "a799a056",
   "metadata": {},
   "outputs": [
    {
     "name": "stdout",
     "output_type": "stream",
     "text": [
      "Common users: 666020\n"
     ]
    },
    {
     "name": "stderr",
     "output_type": "stream",
     "text": [
      "C:\\Users\\qqy_i\\AppData\\Local\\Temp\\ipykernel_15012\\3986193633.py:31: FutureWarning: Downcasting object dtype arrays on .fillna, .ffill, .bfill is deprecated and will change in a future version. Call result.infer_objects(copy=False) instead. To opt-in to the future behavior, set `pd.set_option('future.no_silent_downcasting', True)`\n",
      "  events_recs_common[\"gt\"] = events_recs_common[\"gt\"].fillna(False)\n"
     ]
    }
   ],
   "source": [
    "cb_events_recs_for_binary_metrics_5 = process_events_recs_for_binary_metrics(\n",
    "    events_inference,\n",
    "    events_test_2,\n",
    "    recommendations.rename(columns={\"cb_score\": \"score\"}), \n",
    "    top_k=5)\n",
    "\n",
    "cb_precision_5, cb_recall_5 = compute_cls_metrics(cb_events_recs_for_binary_metrics_5)"
   ]
  },
  {
   "cell_type": "code",
   "execution_count": 36,
   "id": "33396b38",
   "metadata": {},
   "outputs": [
    {
     "name": "stdout",
     "output_type": "stream",
     "text": [
      "precision: 0.005, recall: 0.007\n"
     ]
    }
   ],
   "source": [
    "print(f\"precision: {cb_precision_5:.3f}, recall: {cb_recall_5:.3f}\")"
   ]
  },
  {
   "cell_type": "markdown",
   "id": "6c3aa939",
   "metadata": {},
   "source": [
    "### Конец оценки качества итоговых рекомендаций"
   ]
  },
  {
   "cell_type": "code",
   "execution_count": null,
   "id": "bd8273de",
   "metadata": {},
   "outputs": [],
   "source": [
    "def get_novelty_5(recs, data_train):\n",
    "\n",
    "    recs = recs.merge(data_train[[\"listened\", \"user_id\", \"item_id\"]], on=[\"user_id\", \"item_id\"], how=\"left\")\n",
    "    recs[\"listened\"] = recs[\"listened\"].convert_dtypes().fillna(False)\n",
    "\n",
    "    recs = recs.sort_values(by=['user_id', 'rating'], ascending=False)\n",
    "    recs[\"rank\"] = recs.groupby(\"user_id\").cumcount() + 1\n",
    "    display(recs)\n",
    "\n",
    "    novelty_5 = (1-recs.query(\"rank <= 5\").groupby(\"user_id\")[\"listened\"].mean())\n",
    "    return novelty_5.mean()"
   ]
  },
  {
   "cell_type": "code",
   "execution_count": null,
   "id": "1c321140",
   "metadata": {},
   "outputs": [],
   "source": []
  },
  {
   "cell_type": "code",
   "execution_count": null,
   "id": "c0490966",
   "metadata": {},
   "outputs": [],
   "source": []
  },
  {
   "cell_type": "code",
   "execution_count": null,
   "id": "f58a3fed",
   "metadata": {},
   "outputs": [],
   "source": []
  },
  {
   "cell_type": "code",
   "execution_count": null,
   "id": "a59fa57f",
   "metadata": {},
   "outputs": [],
   "source": []
  },
  {
   "cell_type": "code",
   "execution_count": null,
   "id": "3919bf21",
   "metadata": {},
   "outputs": [],
   "source": []
  },
  {
   "cell_type": "markdown",
   "id": "f1c8d38c-32b0-46a4-96f0-cd01dac708bc",
   "metadata": {},
   "source": [
    "# === Выводы, метрики ==="
   ]
  },
  {
   "cell_type": "markdown",
   "id": "f7d7d5d8-7d1e-4fdf-a6cd-83e5ce92c684",
   "metadata": {},
   "source": [
    "Основные выводы при работе над расчётом рекомендаций, рассчитанные метрики."
   ]
  },
  {
   "cell_type": "code",
   "execution_count": null,
   "id": "fbbd37e8",
   "metadata": {},
   "outputs": [],
   "source": []
  },
  {
   "cell_type": "markdown",
   "id": "240664b0",
   "metadata": {},
   "source": [
    "Были расчитаны метрики оценки качества рекомендаций по топ 100 самых популярных треков в период с 2022-09-01 по 2202-12-15.\n",
    "\n",
    "Для \"холодных\" пользователей (есть в events_test, но нет в events_train) значение метрик получились следующие: rmse = 0.15, mae = 0.12.\n",
    "Доля \"холодных\" пользователей без каких-либо рекомендаций составляет 47%, а среднее покрытие пользователей всего 11%. То есть больше половины (53%) \"холодных\" пользователей получило хоть какие-то релевантные рекомендации, при этом среднее покрытие ползователей составило всего 11% треков.\n",
    "\n",
    "Для старых пользователей (есть в events_test и в events_train) значение метрик получились следующие:  rmse = 0.13, mae = 0.12.\n",
    "Доля старых пользователей без каких-либо рекомендаций составляет 72%, а среднее покрытие увеличилось до 20%. То есть только 28% старых пользователей получила релевантные рекомендации, среднее покрытие ползователей составило 20% треков.\n",
    "\n",
    "Если сравнивать старых и \"холодных\" пользователей, то доля пользователей с релевантными рекомендациями выросла на 25%, но среднее покрытие  уменьшилось на 9%, метрики rmse и mae остались примерно такими же. В целом рекомендации по топ 100 рейтинга за последние несколько месяцев примерно одинаковы для \"холодных\" и старых пользователей, но не являются эффективными по количеству пользователей с релевантными рекомендациями и среднему покрытию пользователей."
   ]
  },
  {
   "cell_type": "markdown",
   "id": "5fb8fa73",
   "metadata": {},
   "source": [
    "Были расчитаны рекомендации для пользователей из тестовой выборки (event_test) с помощью ALS-модели.\n",
    "Метрики полученных рекомендаций:\n",
    "\n",
    "    rmse = 0.38, mae = 0.31, ndcg@5 = 0.98\n",
    "    precision = 0.0068, recall= 0.0055\n",
    "\n",
    "Хотя ошибки увеличились по сравнению с рекомендациями по топ 100 популярных, метрика ndcg@5 показывает, что рекомендации получены достаточно точно для пользователей, для которых получилось посчитать метрику. Также ALS-модель дает по 10 рекомендаций для всех запрошенных пользователей, что соответствуют среднему покрытию, равному единице."
   ]
  }
 ],
 "metadata": {
  "kernelspec": {
   "display_name": "venv_project_sprint_4",
   "language": "python",
   "name": "venv_project_sprint_4"
  },
  "language_info": {
   "codemirror_mode": {
    "name": "ipython",
    "version": 3
   },
   "file_extension": ".py",
   "mimetype": "text/x-python",
   "name": "python",
   "nbconvert_exporter": "python",
   "pygments_lexer": "ipython3",
   "version": "3.10.12"
  }
 },
 "nbformat": 4,
 "nbformat_minor": 5
}
